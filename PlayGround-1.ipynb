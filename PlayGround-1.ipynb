{
 "cells": [
  {
   "cell_type": "markdown",
   "metadata": {},
   "source": [
    "# House Prices: Advanced Regression Techniques"
   ]
  },
  {
   "cell_type": "code",
   "execution_count": 292,
   "metadata": {},
   "outputs": [],
   "source": [
    "\n",
    "import pandas as pd\n",
    "import numpy as nop\n",
    "import tensorflow as tf\n",
    "from datetime import datetime"
   ]
  },
  {
   "cell_type": "code",
   "execution_count": 293,
   "metadata": {},
   "outputs": [],
   "source": [
    "train = pd.read_csv('./data/train.csv')"
   ]
  },
  {
   "cell_type": "code",
   "execution_count": 294,
   "metadata": {},
   "outputs": [],
   "source": [
    "test = pd.read_csv('./data/test.csv')"
   ]
  },
  {
   "cell_type": "code",
   "execution_count": 295,
   "metadata": {},
   "outputs": [
    {
     "data": {
      "text/html": [
       "<div>\n",
       "<style scoped>\n",
       "    .dataframe tbody tr th:only-of-type {\n",
       "        vertical-align: middle;\n",
       "    }\n",
       "\n",
       "    .dataframe tbody tr th {\n",
       "        vertical-align: top;\n",
       "    }\n",
       "\n",
       "    .dataframe thead th {\n",
       "        text-align: right;\n",
       "    }\n",
       "</style>\n",
       "<table border=\"1\" class=\"dataframe\">\n",
       "  <thead>\n",
       "    <tr style=\"text-align: right;\">\n",
       "      <th></th>\n",
       "      <th>Id</th>\n",
       "      <th>MSSubClass</th>\n",
       "      <th>MSZoning</th>\n",
       "      <th>LotFrontage</th>\n",
       "      <th>LotArea</th>\n",
       "      <th>Street</th>\n",
       "      <th>Alley</th>\n",
       "      <th>LotShape</th>\n",
       "      <th>LandContour</th>\n",
       "      <th>Utilities</th>\n",
       "      <th>...</th>\n",
       "      <th>PoolArea</th>\n",
       "      <th>PoolQC</th>\n",
       "      <th>Fence</th>\n",
       "      <th>MiscFeature</th>\n",
       "      <th>MiscVal</th>\n",
       "      <th>MoSold</th>\n",
       "      <th>YrSold</th>\n",
       "      <th>SaleType</th>\n",
       "      <th>SaleCondition</th>\n",
       "      <th>SalePrice</th>\n",
       "    </tr>\n",
       "  </thead>\n",
       "  <tbody>\n",
       "    <tr>\n",
       "      <th>0</th>\n",
       "      <td>1</td>\n",
       "      <td>60</td>\n",
       "      <td>RL</td>\n",
       "      <td>65.0</td>\n",
       "      <td>8450</td>\n",
       "      <td>Pave</td>\n",
       "      <td>NaN</td>\n",
       "      <td>Reg</td>\n",
       "      <td>Lvl</td>\n",
       "      <td>AllPub</td>\n",
       "      <td>...</td>\n",
       "      <td>0</td>\n",
       "      <td>NaN</td>\n",
       "      <td>NaN</td>\n",
       "      <td>NaN</td>\n",
       "      <td>0</td>\n",
       "      <td>2</td>\n",
       "      <td>2008</td>\n",
       "      <td>WD</td>\n",
       "      <td>Normal</td>\n",
       "      <td>208500</td>\n",
       "    </tr>\n",
       "    <tr>\n",
       "      <th>1</th>\n",
       "      <td>2</td>\n",
       "      <td>20</td>\n",
       "      <td>RL</td>\n",
       "      <td>80.0</td>\n",
       "      <td>9600</td>\n",
       "      <td>Pave</td>\n",
       "      <td>NaN</td>\n",
       "      <td>Reg</td>\n",
       "      <td>Lvl</td>\n",
       "      <td>AllPub</td>\n",
       "      <td>...</td>\n",
       "      <td>0</td>\n",
       "      <td>NaN</td>\n",
       "      <td>NaN</td>\n",
       "      <td>NaN</td>\n",
       "      <td>0</td>\n",
       "      <td>5</td>\n",
       "      <td>2007</td>\n",
       "      <td>WD</td>\n",
       "      <td>Normal</td>\n",
       "      <td>181500</td>\n",
       "    </tr>\n",
       "    <tr>\n",
       "      <th>2</th>\n",
       "      <td>3</td>\n",
       "      <td>60</td>\n",
       "      <td>RL</td>\n",
       "      <td>68.0</td>\n",
       "      <td>11250</td>\n",
       "      <td>Pave</td>\n",
       "      <td>NaN</td>\n",
       "      <td>IR1</td>\n",
       "      <td>Lvl</td>\n",
       "      <td>AllPub</td>\n",
       "      <td>...</td>\n",
       "      <td>0</td>\n",
       "      <td>NaN</td>\n",
       "      <td>NaN</td>\n",
       "      <td>NaN</td>\n",
       "      <td>0</td>\n",
       "      <td>9</td>\n",
       "      <td>2008</td>\n",
       "      <td>WD</td>\n",
       "      <td>Normal</td>\n",
       "      <td>223500</td>\n",
       "    </tr>\n",
       "    <tr>\n",
       "      <th>3</th>\n",
       "      <td>4</td>\n",
       "      <td>70</td>\n",
       "      <td>RL</td>\n",
       "      <td>60.0</td>\n",
       "      <td>9550</td>\n",
       "      <td>Pave</td>\n",
       "      <td>NaN</td>\n",
       "      <td>IR1</td>\n",
       "      <td>Lvl</td>\n",
       "      <td>AllPub</td>\n",
       "      <td>...</td>\n",
       "      <td>0</td>\n",
       "      <td>NaN</td>\n",
       "      <td>NaN</td>\n",
       "      <td>NaN</td>\n",
       "      <td>0</td>\n",
       "      <td>2</td>\n",
       "      <td>2006</td>\n",
       "      <td>WD</td>\n",
       "      <td>Abnorml</td>\n",
       "      <td>140000</td>\n",
       "    </tr>\n",
       "    <tr>\n",
       "      <th>4</th>\n",
       "      <td>5</td>\n",
       "      <td>60</td>\n",
       "      <td>RL</td>\n",
       "      <td>84.0</td>\n",
       "      <td>14260</td>\n",
       "      <td>Pave</td>\n",
       "      <td>NaN</td>\n",
       "      <td>IR1</td>\n",
       "      <td>Lvl</td>\n",
       "      <td>AllPub</td>\n",
       "      <td>...</td>\n",
       "      <td>0</td>\n",
       "      <td>NaN</td>\n",
       "      <td>NaN</td>\n",
       "      <td>NaN</td>\n",
       "      <td>0</td>\n",
       "      <td>12</td>\n",
       "      <td>2008</td>\n",
       "      <td>WD</td>\n",
       "      <td>Normal</td>\n",
       "      <td>250000</td>\n",
       "    </tr>\n",
       "  </tbody>\n",
       "</table>\n",
       "<p>5 rows × 81 columns</p>\n",
       "</div>"
      ],
      "text/plain": [
       "   Id  MSSubClass MSZoning  LotFrontage  LotArea Street Alley LotShape  \\\n",
       "0   1          60       RL         65.0     8450   Pave   NaN      Reg   \n",
       "1   2          20       RL         80.0     9600   Pave   NaN      Reg   \n",
       "2   3          60       RL         68.0    11250   Pave   NaN      IR1   \n",
       "3   4          70       RL         60.0     9550   Pave   NaN      IR1   \n",
       "4   5          60       RL         84.0    14260   Pave   NaN      IR1   \n",
       "\n",
       "  LandContour Utilities  ... PoolArea PoolQC Fence MiscFeature MiscVal MoSold  \\\n",
       "0         Lvl    AllPub  ...        0    NaN   NaN         NaN       0      2   \n",
       "1         Lvl    AllPub  ...        0    NaN   NaN         NaN       0      5   \n",
       "2         Lvl    AllPub  ...        0    NaN   NaN         NaN       0      9   \n",
       "3         Lvl    AllPub  ...        0    NaN   NaN         NaN       0      2   \n",
       "4         Lvl    AllPub  ...        0    NaN   NaN         NaN       0     12   \n",
       "\n",
       "  YrSold  SaleType  SaleCondition  SalePrice  \n",
       "0   2008        WD         Normal     208500  \n",
       "1   2007        WD         Normal     181500  \n",
       "2   2008        WD         Normal     223500  \n",
       "3   2006        WD        Abnorml     140000  \n",
       "4   2008        WD         Normal     250000  \n",
       "\n",
       "[5 rows x 81 columns]"
      ]
     },
     "execution_count": 295,
     "metadata": {},
     "output_type": "execute_result"
    }
   ],
   "source": [
    "train.head()"
   ]
  },
  {
   "cell_type": "code",
   "execution_count": 296,
   "metadata": {},
   "outputs": [
    {
     "data": {
      "text/plain": [
       "(1460, 81)"
      ]
     },
     "execution_count": 296,
     "metadata": {},
     "output_type": "execute_result"
    }
   ],
   "source": [
    "train.shape"
   ]
  },
  {
   "cell_type": "code",
   "execution_count": 297,
   "metadata": {},
   "outputs": [
    {
     "data": {
      "text/plain": [
       "Id                 int64\n",
       "MSSubClass         int64\n",
       "MSZoning          object\n",
       "LotFrontage      float64\n",
       "LotArea            int64\n",
       "                  ...   \n",
       "MoSold             int64\n",
       "YrSold             int64\n",
       "SaleType          object\n",
       "SaleCondition     object\n",
       "SalePrice          int64\n",
       "Length: 81, dtype: object"
      ]
     },
     "execution_count": 297,
     "metadata": {},
     "output_type": "execute_result"
    }
   ],
   "source": [
    "train.dtypes"
   ]
  },
  {
   "cell_type": "code",
   "execution_count": 298,
   "metadata": {},
   "outputs": [
    {
     "data": {
      "text/plain": [
       "{'Alley': 1369, 'PoolQC': 1453, 'Fence': 1179, 'MiscFeature': 1406}"
      ]
     },
     "execution_count": 298,
     "metadata": {},
     "output_type": "execute_result"
    }
   ],
   "source": [
    "# Attributes which are mostly Null\n",
    "mostly_nan = {x:y for x,y in dict(train.isnull().sum()).items() if y > 700}\n",
    "mostly_nan"
   ]
  },
  {
   "cell_type": "code",
   "execution_count": 299,
   "metadata": {},
   "outputs": [],
   "source": [
    "train = train.drop(mostly_nan.keys(), axis = 1)"
   ]
  },
  {
   "cell_type": "code",
   "execution_count": 300,
   "metadata": {},
   "outputs": [
    {
     "data": {
      "text/plain": [
       "{'LotFrontage': 259,\n",
       " 'MasVnrType': 8,\n",
       " 'MasVnrArea': 8,\n",
       " 'BsmtQual': 37,\n",
       " 'BsmtCond': 37,\n",
       " 'BsmtExposure': 38,\n",
       " 'BsmtFinType1': 37,\n",
       " 'BsmtFinType2': 38,\n",
       " 'Electrical': 1,\n",
       " 'FireplaceQu': 690,\n",
       " 'GarageType': 81,\n",
       " 'GarageYrBlt': 81,\n",
       " 'GarageFinish': 81,\n",
       " 'GarageQual': 81,\n",
       " 'GarageCond': 81}"
      ]
     },
     "execution_count": 300,
     "metadata": {},
     "output_type": "execute_result"
    }
   ],
   "source": [
    "have_nan = {x:y for x,y in dict(train.isnull().sum()).items() if y > 0}\n",
    "have_nan"
   ]
  },
  {
   "cell_type": "code",
   "execution_count": 301,
   "metadata": {},
   "outputs": [
    {
     "data": {
      "text/plain": [
       "'SBrkr'"
      ]
     },
     "execution_count": 301,
     "metadata": {},
     "output_type": "execute_result"
    }
   ],
   "source": [
    "train['Electrical'].value_counts().index[0]"
   ]
  },
  {
   "cell_type": "code",
   "execution_count": 302,
   "metadata": {},
   "outputs": [
    {
     "data": {
      "text/html": [
       "<div>\n",
       "<style scoped>\n",
       "    .dataframe tbody tr th:only-of-type {\n",
       "        vertical-align: middle;\n",
       "    }\n",
       "\n",
       "    .dataframe tbody tr th {\n",
       "        vertical-align: top;\n",
       "    }\n",
       "\n",
       "    .dataframe thead th {\n",
       "        text-align: right;\n",
       "    }\n",
       "</style>\n",
       "<table border=\"1\" class=\"dataframe\">\n",
       "  <thead>\n",
       "    <tr style=\"text-align: right;\">\n",
       "      <th></th>\n",
       "      <th>Id</th>\n",
       "      <th>MSSubClass</th>\n",
       "      <th>MSZoning</th>\n",
       "      <th>LotFrontage</th>\n",
       "      <th>LotArea</th>\n",
       "      <th>Street</th>\n",
       "      <th>LotShape</th>\n",
       "      <th>LandContour</th>\n",
       "      <th>Utilities</th>\n",
       "      <th>LotConfig</th>\n",
       "      <th>...</th>\n",
       "      <th>EnclosedPorch</th>\n",
       "      <th>3SsnPorch</th>\n",
       "      <th>ScreenPorch</th>\n",
       "      <th>PoolArea</th>\n",
       "      <th>MiscVal</th>\n",
       "      <th>MoSold</th>\n",
       "      <th>YrSold</th>\n",
       "      <th>SaleType</th>\n",
       "      <th>SaleCondition</th>\n",
       "      <th>SalePrice</th>\n",
       "    </tr>\n",
       "  </thead>\n",
       "  <tbody>\n",
       "    <tr>\n",
       "      <th>1379</th>\n",
       "      <td>1380</td>\n",
       "      <td>80</td>\n",
       "      <td>RL</td>\n",
       "      <td>73.0</td>\n",
       "      <td>9735</td>\n",
       "      <td>Pave</td>\n",
       "      <td>Reg</td>\n",
       "      <td>Lvl</td>\n",
       "      <td>AllPub</td>\n",
       "      <td>Inside</td>\n",
       "      <td>...</td>\n",
       "      <td>0</td>\n",
       "      <td>0</td>\n",
       "      <td>0</td>\n",
       "      <td>0</td>\n",
       "      <td>0</td>\n",
       "      <td>5</td>\n",
       "      <td>2008</td>\n",
       "      <td>WD</td>\n",
       "      <td>Normal</td>\n",
       "      <td>167500</td>\n",
       "    </tr>\n",
       "  </tbody>\n",
       "</table>\n",
       "<p>1 rows × 77 columns</p>\n",
       "</div>"
      ],
      "text/plain": [
       "        Id  MSSubClass MSZoning  LotFrontage  LotArea Street LotShape  \\\n",
       "1379  1380          80       RL         73.0     9735   Pave      Reg   \n",
       "\n",
       "     LandContour Utilities LotConfig  ... EnclosedPorch 3SsnPorch ScreenPorch  \\\n",
       "1379         Lvl    AllPub    Inside  ...             0         0           0   \n",
       "\n",
       "     PoolArea MiscVal MoSold  YrSold  SaleType  SaleCondition  SalePrice  \n",
       "1379        0       0      5    2008        WD         Normal     167500  \n",
       "\n",
       "[1 rows x 77 columns]"
      ]
     },
     "execution_count": 302,
     "metadata": {},
     "output_type": "execute_result"
    }
   ],
   "source": [
    "train[train['Electrical'].isnull()]"
   ]
  },
  {
   "cell_type": "code",
   "execution_count": 303,
   "metadata": {},
   "outputs": [],
   "source": [
    "# Replace Nan with mode\n",
    "for col,_ in have_nan.items():\n",
    "    if train.dtypes[col] == 'object':\n",
    "        mode = train[col].value_counts().index[0]\n",
    "        train[col] = train[col].replace(np.nan, mode)\n",
    "    else:\n",
    "        median = train[col].median()\n",
    "        train[col] = train[col].replace(np.nan, median)"
   ]
  },
  {
   "cell_type": "code",
   "execution_count": 304,
   "metadata": {},
   "outputs": [
    {
     "data": {
      "text/plain": [
       "{}"
      ]
     },
     "execution_count": 304,
     "metadata": {},
     "output_type": "execute_result"
    }
   ],
   "source": [
    "{x:y for x,y in dict(train.isnull().sum()).items() if y > 0}"
   ]
  },
  {
   "cell_type": "code",
   "execution_count": null,
   "metadata": {},
   "outputs": [],
   "source": []
  },
  {
   "cell_type": "code",
   "execution_count": 305,
   "metadata": {},
   "outputs": [],
   "source": [
    "categoricals = list(train.select_dtypes(include=['object']).columns)"
   ]
  },
  {
   "cell_type": "code",
   "execution_count": null,
   "metadata": {},
   "outputs": [],
   "source": []
  },
  {
   "cell_type": "code",
   "execution_count": 306,
   "metadata": {},
   "outputs": [
    {
     "name": "stdout",
     "output_type": "stream",
     "text": [
      "MSZoning = ['RL' 'RM' 'C (all)' 'FV' 'RH']\n",
      "Street = ['Pave' 'Grvl']\n",
      "LotShape = ['Reg' 'IR1' 'IR2' 'IR3']\n",
      "LandContour = ['Lvl' 'Bnk' 'Low' 'HLS']\n",
      "Utilities = ['AllPub' 'NoSeWa']\n",
      "LotConfig = ['Inside' 'FR2' 'Corner' 'CulDSac' 'FR3']\n",
      "LandSlope = ['Gtl' 'Mod' 'Sev']\n",
      "Neighborhood = ['CollgCr' 'Veenker' 'Crawfor' 'NoRidge' 'Mitchel' 'Somerst' 'NWAmes'\n",
      " 'OldTown' 'BrkSide' 'Sawyer' 'NridgHt' 'NAmes' 'SawyerW' 'IDOTRR'\n",
      " 'MeadowV' 'Edwards' 'Timber' 'Gilbert' 'StoneBr' 'ClearCr' 'NPkVill'\n",
      " 'Blmngtn' 'BrDale' 'SWISU' 'Blueste']\n",
      "Condition1 = ['Norm' 'Feedr' 'PosN' 'Artery' 'RRAe' 'RRNn' 'RRAn' 'PosA' 'RRNe']\n",
      "Condition2 = ['Norm' 'Artery' 'RRNn' 'Feedr' 'PosN' 'PosA' 'RRAn' 'RRAe']\n",
      "BldgType = ['1Fam' '2fmCon' 'Duplex' 'TwnhsE' 'Twnhs']\n",
      "HouseStyle = ['2Story' '1Story' '1.5Fin' '1.5Unf' 'SFoyer' 'SLvl' '2.5Unf' '2.5Fin']\n",
      "RoofStyle = ['Gable' 'Hip' 'Gambrel' 'Mansard' 'Flat' 'Shed']\n",
      "RoofMatl = ['CompShg' 'WdShngl' 'Metal' 'WdShake' 'Membran' 'Tar&Grv' 'Roll'\n",
      " 'ClyTile']\n",
      "Exterior1st = ['VinylSd' 'MetalSd' 'Wd Sdng' 'HdBoard' 'BrkFace' 'WdShing' 'CemntBd'\n",
      " 'Plywood' 'AsbShng' 'Stucco' 'BrkComm' 'AsphShn' 'Stone' 'ImStucc'\n",
      " 'CBlock']\n",
      "Exterior2nd = ['VinylSd' 'MetalSd' 'Wd Shng' 'HdBoard' 'Plywood' 'Wd Sdng' 'CmentBd'\n",
      " 'BrkFace' 'Stucco' 'AsbShng' 'Brk Cmn' 'ImStucc' 'AsphShn' 'Stone'\n",
      " 'Other' 'CBlock']\n",
      "MasVnrType = ['BrkFace' 'None' 'Stone' 'BrkCmn']\n",
      "ExterQual = ['Gd' 'TA' 'Ex' 'Fa']\n",
      "ExterCond = ['TA' 'Gd' 'Fa' 'Po' 'Ex']\n",
      "Foundation = ['PConc' 'CBlock' 'BrkTil' 'Wood' 'Slab' 'Stone']\n",
      "BsmtQual = ['Gd' 'TA' 'Ex' 'Fa']\n",
      "BsmtCond = ['TA' 'Gd' 'Fa' 'Po']\n",
      "BsmtExposure = ['No' 'Gd' 'Mn' 'Av']\n",
      "BsmtFinType1 = ['GLQ' 'ALQ' 'Unf' 'Rec' 'BLQ' 'LwQ']\n",
      "BsmtFinType2 = ['Unf' 'BLQ' 'ALQ' 'Rec' 'LwQ' 'GLQ']\n",
      "Heating = ['GasA' 'GasW' 'Grav' 'Wall' 'OthW' 'Floor']\n",
      "HeatingQC = ['Ex' 'Gd' 'TA' 'Fa' 'Po']\n",
      "CentralAir = ['Y' 'N']\n",
      "Electrical = ['SBrkr' 'FuseF' 'FuseA' 'FuseP' 'Mix']\n",
      "KitchenQual = ['Gd' 'TA' 'Ex' 'Fa']\n",
      "Functional = ['Typ' 'Min1' 'Maj1' 'Min2' 'Mod' 'Maj2' 'Sev']\n",
      "FireplaceQu = ['Gd' 'TA' 'Fa' 'Ex' 'Po']\n",
      "GarageType = ['Attchd' 'Detchd' 'BuiltIn' 'CarPort' 'Basment' '2Types']\n",
      "GarageFinish = ['RFn' 'Unf' 'Fin']\n",
      "GarageQual = ['TA' 'Fa' 'Gd' 'Ex' 'Po']\n",
      "GarageCond = ['TA' 'Fa' 'Gd' 'Po' 'Ex']\n",
      "PavedDrive = ['Y' 'N' 'P']\n",
      "SaleType = ['WD' 'New' 'COD' 'ConLD' 'ConLI' 'CWD' 'ConLw' 'Con' 'Oth']\n",
      "SaleCondition = ['Normal' 'Abnorml' 'Partial' 'AdjLand' 'Alloca' 'Family']\n"
     ]
    }
   ],
   "source": [
    "from sklearn.preprocessing import LabelBinarizer\n",
    "encoders = {}\n",
    "to_drop = []\n",
    "for col in categoricals:\n",
    "    print(f'{col} = {train[col].unique()}')\n",
    "    lb = LabelBinarizer()\n",
    "    encoded = lb.fit_transform(train[col])\n",
    "#     print(y.shape)\n",
    "    if encoded.shape[1] > 1:\n",
    "        ne = pd.DataFrame(encoded, columns=[f'{col}_{clas}' for clas in lb.classes_])\n",
    "        to_drop.append(col)\n",
    "    else:\n",
    "        ne = pd.DataFrame(encoded, columns=[col])\n",
    "    train = train.drop([col], axis = 1)\n",
    "    train = pd.concat([train, ne], axis=1)\n",
    "    encoders[col] = lb"
   ]
  },
  {
   "cell_type": "code",
   "execution_count": null,
   "metadata": {},
   "outputs": [],
   "source": []
  },
  {
   "cell_type": "code",
   "execution_count": 307,
   "metadata": {},
   "outputs": [
    {
     "data": {
      "text/html": [
       "<div>\n",
       "<style scoped>\n",
       "    .dataframe tbody tr th:only-of-type {\n",
       "        vertical-align: middle;\n",
       "    }\n",
       "\n",
       "    .dataframe tbody tr th {\n",
       "        vertical-align: top;\n",
       "    }\n",
       "\n",
       "    .dataframe thead th {\n",
       "        text-align: right;\n",
       "    }\n",
       "</style>\n",
       "<table border=\"1\" class=\"dataframe\">\n",
       "  <thead>\n",
       "    <tr style=\"text-align: right;\">\n",
       "      <th></th>\n",
       "      <th>Id</th>\n",
       "      <th>MSSubClass</th>\n",
       "      <th>LotFrontage</th>\n",
       "      <th>LotArea</th>\n",
       "      <th>OverallQual</th>\n",
       "      <th>OverallCond</th>\n",
       "      <th>YearBuilt</th>\n",
       "      <th>YearRemodAdd</th>\n",
       "      <th>MasVnrArea</th>\n",
       "      <th>BsmtFinSF1</th>\n",
       "      <th>...</th>\n",
       "      <th>SaleType_ConLw</th>\n",
       "      <th>SaleType_New</th>\n",
       "      <th>SaleType_Oth</th>\n",
       "      <th>SaleType_WD</th>\n",
       "      <th>SaleCondition_Abnorml</th>\n",
       "      <th>SaleCondition_AdjLand</th>\n",
       "      <th>SaleCondition_Alloca</th>\n",
       "      <th>SaleCondition_Family</th>\n",
       "      <th>SaleCondition_Normal</th>\n",
       "      <th>SaleCondition_Partial</th>\n",
       "    </tr>\n",
       "  </thead>\n",
       "  <tbody>\n",
       "    <tr>\n",
       "      <th>0</th>\n",
       "      <td>1</td>\n",
       "      <td>60</td>\n",
       "      <td>65.0</td>\n",
       "      <td>8450</td>\n",
       "      <td>7</td>\n",
       "      <td>5</td>\n",
       "      <td>2003</td>\n",
       "      <td>2003</td>\n",
       "      <td>196.0</td>\n",
       "      <td>706</td>\n",
       "      <td>...</td>\n",
       "      <td>0</td>\n",
       "      <td>0</td>\n",
       "      <td>0</td>\n",
       "      <td>1</td>\n",
       "      <td>0</td>\n",
       "      <td>0</td>\n",
       "      <td>0</td>\n",
       "      <td>0</td>\n",
       "      <td>1</td>\n",
       "      <td>0</td>\n",
       "    </tr>\n",
       "    <tr>\n",
       "      <th>1</th>\n",
       "      <td>2</td>\n",
       "      <td>20</td>\n",
       "      <td>80.0</td>\n",
       "      <td>9600</td>\n",
       "      <td>6</td>\n",
       "      <td>8</td>\n",
       "      <td>1976</td>\n",
       "      <td>1976</td>\n",
       "      <td>0.0</td>\n",
       "      <td>978</td>\n",
       "      <td>...</td>\n",
       "      <td>0</td>\n",
       "      <td>0</td>\n",
       "      <td>0</td>\n",
       "      <td>1</td>\n",
       "      <td>0</td>\n",
       "      <td>0</td>\n",
       "      <td>0</td>\n",
       "      <td>0</td>\n",
       "      <td>1</td>\n",
       "      <td>0</td>\n",
       "    </tr>\n",
       "    <tr>\n",
       "      <th>2</th>\n",
       "      <td>3</td>\n",
       "      <td>60</td>\n",
       "      <td>68.0</td>\n",
       "      <td>11250</td>\n",
       "      <td>7</td>\n",
       "      <td>5</td>\n",
       "      <td>2001</td>\n",
       "      <td>2002</td>\n",
       "      <td>162.0</td>\n",
       "      <td>486</td>\n",
       "      <td>...</td>\n",
       "      <td>0</td>\n",
       "      <td>0</td>\n",
       "      <td>0</td>\n",
       "      <td>1</td>\n",
       "      <td>0</td>\n",
       "      <td>0</td>\n",
       "      <td>0</td>\n",
       "      <td>0</td>\n",
       "      <td>1</td>\n",
       "      <td>0</td>\n",
       "    </tr>\n",
       "    <tr>\n",
       "      <th>3</th>\n",
       "      <td>4</td>\n",
       "      <td>70</td>\n",
       "      <td>60.0</td>\n",
       "      <td>9550</td>\n",
       "      <td>7</td>\n",
       "      <td>5</td>\n",
       "      <td>1915</td>\n",
       "      <td>1970</td>\n",
       "      <td>0.0</td>\n",
       "      <td>216</td>\n",
       "      <td>...</td>\n",
       "      <td>0</td>\n",
       "      <td>0</td>\n",
       "      <td>0</td>\n",
       "      <td>1</td>\n",
       "      <td>1</td>\n",
       "      <td>0</td>\n",
       "      <td>0</td>\n",
       "      <td>0</td>\n",
       "      <td>0</td>\n",
       "      <td>0</td>\n",
       "    </tr>\n",
       "    <tr>\n",
       "      <th>4</th>\n",
       "      <td>5</td>\n",
       "      <td>60</td>\n",
       "      <td>84.0</td>\n",
       "      <td>14260</td>\n",
       "      <td>8</td>\n",
       "      <td>5</td>\n",
       "      <td>2000</td>\n",
       "      <td>2000</td>\n",
       "      <td>350.0</td>\n",
       "      <td>655</td>\n",
       "      <td>...</td>\n",
       "      <td>0</td>\n",
       "      <td>0</td>\n",
       "      <td>0</td>\n",
       "      <td>1</td>\n",
       "      <td>0</td>\n",
       "      <td>0</td>\n",
       "      <td>0</td>\n",
       "      <td>0</td>\n",
       "      <td>1</td>\n",
       "      <td>0</td>\n",
       "    </tr>\n",
       "  </tbody>\n",
       "</table>\n",
       "<p>5 rows × 274 columns</p>\n",
       "</div>"
      ],
      "text/plain": [
       "   Id  MSSubClass  LotFrontage  LotArea  OverallQual  OverallCond  YearBuilt  \\\n",
       "0   1          60         65.0     8450            7            5       2003   \n",
       "1   2          20         80.0     9600            6            8       1976   \n",
       "2   3          60         68.0    11250            7            5       2001   \n",
       "3   4          70         60.0     9550            7            5       1915   \n",
       "4   5          60         84.0    14260            8            5       2000   \n",
       "\n",
       "   YearRemodAdd  MasVnrArea  BsmtFinSF1  ...  SaleType_ConLw  SaleType_New  \\\n",
       "0          2003       196.0         706  ...               0             0   \n",
       "1          1976         0.0         978  ...               0             0   \n",
       "2          2002       162.0         486  ...               0             0   \n",
       "3          1970         0.0         216  ...               0             0   \n",
       "4          2000       350.0         655  ...               0             0   \n",
       "\n",
       "   SaleType_Oth  SaleType_WD  SaleCondition_Abnorml  SaleCondition_AdjLand  \\\n",
       "0             0            1                      0                      0   \n",
       "1             0            1                      0                      0   \n",
       "2             0            1                      0                      0   \n",
       "3             0            1                      1                      0   \n",
       "4             0            1                      0                      0   \n",
       "\n",
       "   SaleCondition_Alloca  SaleCondition_Family  SaleCondition_Normal  \\\n",
       "0                     0                     0                     1   \n",
       "1                     0                     0                     1   \n",
       "2                     0                     0                     1   \n",
       "3                     0                     0                     0   \n",
       "4                     0                     0                     1   \n",
       "\n",
       "   SaleCondition_Partial  \n",
       "0                      0  \n",
       "1                      0  \n",
       "2                      0  \n",
       "3                      0  \n",
       "4                      0  \n",
       "\n",
       "[5 rows x 274 columns]"
      ]
     },
     "execution_count": 307,
     "metadata": {},
     "output_type": "execute_result"
    }
   ],
   "source": [
    "train.head()"
   ]
  },
  {
   "cell_type": "code",
   "execution_count": null,
   "metadata": {},
   "outputs": [],
   "source": []
  },
  {
   "cell_type": "code",
   "execution_count": 308,
   "metadata": {},
   "outputs": [
    {
     "data": {
      "text/html": [
       "<div>\n",
       "<style scoped>\n",
       "    .dataframe tbody tr th:only-of-type {\n",
       "        vertical-align: middle;\n",
       "    }\n",
       "\n",
       "    .dataframe tbody tr th {\n",
       "        vertical-align: top;\n",
       "    }\n",
       "\n",
       "    .dataframe thead th {\n",
       "        text-align: right;\n",
       "    }\n",
       "</style>\n",
       "<table border=\"1\" class=\"dataframe\">\n",
       "  <thead>\n",
       "    <tr style=\"text-align: right;\">\n",
       "      <th></th>\n",
       "      <th>Id</th>\n",
       "      <th>MSSubClass</th>\n",
       "      <th>LotFrontage</th>\n",
       "      <th>LotArea</th>\n",
       "      <th>OverallQual</th>\n",
       "      <th>OverallCond</th>\n",
       "      <th>YearBuilt</th>\n",
       "      <th>YearRemodAdd</th>\n",
       "      <th>MasVnrArea</th>\n",
       "      <th>BsmtFinSF1</th>\n",
       "      <th>...</th>\n",
       "      <th>SaleType_ConLw</th>\n",
       "      <th>SaleType_New</th>\n",
       "      <th>SaleType_Oth</th>\n",
       "      <th>SaleType_WD</th>\n",
       "      <th>SaleCondition_Abnorml</th>\n",
       "      <th>SaleCondition_AdjLand</th>\n",
       "      <th>SaleCondition_Alloca</th>\n",
       "      <th>SaleCondition_Family</th>\n",
       "      <th>SaleCondition_Normal</th>\n",
       "      <th>SaleCondition_Partial</th>\n",
       "    </tr>\n",
       "  </thead>\n",
       "  <tbody>\n",
       "    <tr>\n",
       "      <th>0</th>\n",
       "      <td>1</td>\n",
       "      <td>60</td>\n",
       "      <td>65.0</td>\n",
       "      <td>8450</td>\n",
       "      <td>7</td>\n",
       "      <td>5</td>\n",
       "      <td>2003</td>\n",
       "      <td>2003</td>\n",
       "      <td>196.0</td>\n",
       "      <td>706</td>\n",
       "      <td>...</td>\n",
       "      <td>0</td>\n",
       "      <td>0</td>\n",
       "      <td>0</td>\n",
       "      <td>1</td>\n",
       "      <td>0</td>\n",
       "      <td>0</td>\n",
       "      <td>0</td>\n",
       "      <td>0</td>\n",
       "      <td>1</td>\n",
       "      <td>0</td>\n",
       "    </tr>\n",
       "    <tr>\n",
       "      <th>1</th>\n",
       "      <td>2</td>\n",
       "      <td>20</td>\n",
       "      <td>80.0</td>\n",
       "      <td>9600</td>\n",
       "      <td>6</td>\n",
       "      <td>8</td>\n",
       "      <td>1976</td>\n",
       "      <td>1976</td>\n",
       "      <td>0.0</td>\n",
       "      <td>978</td>\n",
       "      <td>...</td>\n",
       "      <td>0</td>\n",
       "      <td>0</td>\n",
       "      <td>0</td>\n",
       "      <td>1</td>\n",
       "      <td>0</td>\n",
       "      <td>0</td>\n",
       "      <td>0</td>\n",
       "      <td>0</td>\n",
       "      <td>1</td>\n",
       "      <td>0</td>\n",
       "    </tr>\n",
       "    <tr>\n",
       "      <th>2</th>\n",
       "      <td>3</td>\n",
       "      <td>60</td>\n",
       "      <td>68.0</td>\n",
       "      <td>11250</td>\n",
       "      <td>7</td>\n",
       "      <td>5</td>\n",
       "      <td>2001</td>\n",
       "      <td>2002</td>\n",
       "      <td>162.0</td>\n",
       "      <td>486</td>\n",
       "      <td>...</td>\n",
       "      <td>0</td>\n",
       "      <td>0</td>\n",
       "      <td>0</td>\n",
       "      <td>1</td>\n",
       "      <td>0</td>\n",
       "      <td>0</td>\n",
       "      <td>0</td>\n",
       "      <td>0</td>\n",
       "      <td>1</td>\n",
       "      <td>0</td>\n",
       "    </tr>\n",
       "    <tr>\n",
       "      <th>3</th>\n",
       "      <td>4</td>\n",
       "      <td>70</td>\n",
       "      <td>60.0</td>\n",
       "      <td>9550</td>\n",
       "      <td>7</td>\n",
       "      <td>5</td>\n",
       "      <td>1915</td>\n",
       "      <td>1970</td>\n",
       "      <td>0.0</td>\n",
       "      <td>216</td>\n",
       "      <td>...</td>\n",
       "      <td>0</td>\n",
       "      <td>0</td>\n",
       "      <td>0</td>\n",
       "      <td>1</td>\n",
       "      <td>1</td>\n",
       "      <td>0</td>\n",
       "      <td>0</td>\n",
       "      <td>0</td>\n",
       "      <td>0</td>\n",
       "      <td>0</td>\n",
       "    </tr>\n",
       "    <tr>\n",
       "      <th>4</th>\n",
       "      <td>5</td>\n",
       "      <td>60</td>\n",
       "      <td>84.0</td>\n",
       "      <td>14260</td>\n",
       "      <td>8</td>\n",
       "      <td>5</td>\n",
       "      <td>2000</td>\n",
       "      <td>2000</td>\n",
       "      <td>350.0</td>\n",
       "      <td>655</td>\n",
       "      <td>...</td>\n",
       "      <td>0</td>\n",
       "      <td>0</td>\n",
       "      <td>0</td>\n",
       "      <td>1</td>\n",
       "      <td>0</td>\n",
       "      <td>0</td>\n",
       "      <td>0</td>\n",
       "      <td>0</td>\n",
       "      <td>1</td>\n",
       "      <td>0</td>\n",
       "    </tr>\n",
       "  </tbody>\n",
       "</table>\n",
       "<p>5 rows × 274 columns</p>\n",
       "</div>"
      ],
      "text/plain": [
       "   Id  MSSubClass  LotFrontage  LotArea  OverallQual  OverallCond  YearBuilt  \\\n",
       "0   1          60         65.0     8450            7            5       2003   \n",
       "1   2          20         80.0     9600            6            8       1976   \n",
       "2   3          60         68.0    11250            7            5       2001   \n",
       "3   4          70         60.0     9550            7            5       1915   \n",
       "4   5          60         84.0    14260            8            5       2000   \n",
       "\n",
       "   YearRemodAdd  MasVnrArea  BsmtFinSF1  ...  SaleType_ConLw  SaleType_New  \\\n",
       "0          2003       196.0         706  ...               0             0   \n",
       "1          1976         0.0         978  ...               0             0   \n",
       "2          2002       162.0         486  ...               0             0   \n",
       "3          1970         0.0         216  ...               0             0   \n",
       "4          2000       350.0         655  ...               0             0   \n",
       "\n",
       "   SaleType_Oth  SaleType_WD  SaleCondition_Abnorml  SaleCondition_AdjLand  \\\n",
       "0             0            1                      0                      0   \n",
       "1             0            1                      0                      0   \n",
       "2             0            1                      0                      0   \n",
       "3             0            1                      1                      0   \n",
       "4             0            1                      0                      0   \n",
       "\n",
       "   SaleCondition_Alloca  SaleCondition_Family  SaleCondition_Normal  \\\n",
       "0                     0                     0                     1   \n",
       "1                     0                     0                     1   \n",
       "2                     0                     0                     1   \n",
       "3                     0                     0                     0   \n",
       "4                     0                     0                     1   \n",
       "\n",
       "   SaleCondition_Partial  \n",
       "0                      0  \n",
       "1                      0  \n",
       "2                      0  \n",
       "3                      0  \n",
       "4                      0  \n",
       "\n",
       "[5 rows x 274 columns]"
      ]
     },
     "execution_count": 308,
     "metadata": {},
     "output_type": "execute_result"
    }
   ],
   "source": [
    "train.head()"
   ]
  },
  {
   "cell_type": "code",
   "execution_count": 309,
   "metadata": {},
   "outputs": [
    {
     "data": {
      "text/plain": [
       "int32      236\n",
       "int64       35\n",
       "float64      3\n",
       "dtype: int64"
      ]
     },
     "execution_count": 309,
     "metadata": {},
     "output_type": "execute_result"
    }
   ],
   "source": [
    "train.dtypes.value_counts()"
   ]
  },
  {
   "cell_type": "code",
   "execution_count": 310,
   "metadata": {},
   "outputs": [],
   "source": [
    "y = train['SalePrice']\n",
    "X = train\n",
    "X = train.drop(['SalePrice', 'Id'], axis = 1)"
   ]
  },
  {
   "cell_type": "code",
   "execution_count": 311,
   "metadata": {},
   "outputs": [],
   "source": [
    "from sklearn.preprocessing import MinMaxScaler, StandardScaler\n",
    "scalers = {}\n",
    "for col in X:\n",
    "    scale = StandardScaler()\n",
    "    X[col] = scale.fit_transform(np.array(X[col]).reshape(-1, 1))\n",
    "    scalers[col] = scale\n"
   ]
  },
  {
   "cell_type": "code",
   "execution_count": 147,
   "metadata": {},
   "outputs": [],
   "source": [
    "# from sklearn.model_selection import train_test_split\n",
    "# X_train, X_test, y_train, y_test = train_test_split(X, y, test_size = 0.2)"
   ]
  },
  {
   "cell_type": "code",
   "execution_count": 148,
   "metadata": {},
   "outputs": [],
   "source": [
    "from sklearn.linear_model import LinearRegression"
   ]
  },
  {
   "cell_type": "code",
   "execution_count": 149,
   "metadata": {},
   "outputs": [],
   "source": [
    "lr_model = LinearRegression()"
   ]
  },
  {
   "cell_type": "code",
   "execution_count": 150,
   "metadata": {},
   "outputs": [
    {
     "data": {
      "text/plain": [
       "LinearRegression()"
      ]
     },
     "execution_count": 150,
     "metadata": {},
     "output_type": "execute_result"
    }
   ],
   "source": [
    "lr_model.fit(X_train, y_train)"
   ]
  },
  {
   "cell_type": "code",
   "execution_count": 151,
   "metadata": {},
   "outputs": [],
   "source": [
    "pred = lr_model.predict(X_test)"
   ]
  },
  {
   "cell_type": "code",
   "execution_count": 152,
   "metadata": {},
   "outputs": [],
   "source": [
    "from sklearn.metrics import mean_absolute_error, mean_squared_error"
   ]
  },
  {
   "cell_type": "code",
   "execution_count": 153,
   "metadata": {},
   "outputs": [
    {
     "data": {
      "text/plain": [
       "1.329961960191654e+29"
      ]
     },
     "execution_count": 153,
     "metadata": {},
     "output_type": "execute_result"
    }
   ],
   "source": [
    "mean_squared_error(y_test, pred)"
   ]
  },
  {
   "cell_type": "code",
   "execution_count": 154,
   "metadata": {},
   "outputs": [
    {
     "data": {
      "text/plain": [
       "50317047556976.33"
      ]
     },
     "execution_count": 154,
     "metadata": {},
     "output_type": "execute_result"
    }
   ],
   "source": [
    "mean_absolute_error(y_test, pred)"
   ]
  },
  {
   "cell_type": "code",
   "execution_count": 312,
   "metadata": {},
   "outputs": [],
   "source": [
    "test = test.drop(mostly_nan, axis = 1)"
   ]
  },
  {
   "cell_type": "code",
   "execution_count": 313,
   "metadata": {},
   "outputs": [
    {
     "data": {
      "text/plain": [
       "{'MSZoning': 4,\n",
       " 'LotFrontage': 227,\n",
       " 'Utilities': 2,\n",
       " 'Exterior1st': 1,\n",
       " 'Exterior2nd': 1,\n",
       " 'MasVnrType': 16,\n",
       " 'MasVnrArea': 15,\n",
       " 'BsmtQual': 44,\n",
       " 'BsmtCond': 45,\n",
       " 'BsmtExposure': 44,\n",
       " 'BsmtFinType1': 42,\n",
       " 'BsmtFinSF1': 1,\n",
       " 'BsmtFinType2': 42,\n",
       " 'BsmtFinSF2': 1,\n",
       " 'BsmtUnfSF': 1,\n",
       " 'TotalBsmtSF': 1,\n",
       " 'BsmtFullBath': 2,\n",
       " 'BsmtHalfBath': 2,\n",
       " 'KitchenQual': 1,\n",
       " 'Functional': 2,\n",
       " 'FireplaceQu': 730,\n",
       " 'GarageType': 76,\n",
       " 'GarageYrBlt': 78,\n",
       " 'GarageFinish': 78,\n",
       " 'GarageCars': 1,\n",
       " 'GarageArea': 1,\n",
       " 'GarageQual': 78,\n",
       " 'GarageCond': 78,\n",
       " 'SaleType': 1}"
      ]
     },
     "execution_count": 313,
     "metadata": {},
     "output_type": "execute_result"
    }
   ],
   "source": [
    "test_have_nan = {x:y for x,y in dict(test.isnull().sum()).items() if y > 0}\n",
    "test_have_nan"
   ]
  },
  {
   "cell_type": "code",
   "execution_count": 314,
   "metadata": {},
   "outputs": [],
   "source": [
    "# Replace Nan with mode\n",
    "for col,_ in test_have_nan.items():\n",
    "    mode = test[col].value_counts().index[0]\n",
    "    test[col] = test[col].replace(np.nan, mode)"
   ]
  },
  {
   "cell_type": "code",
   "execution_count": null,
   "metadata": {},
   "outputs": [],
   "source": []
  },
  {
   "cell_type": "code",
   "execution_count": 315,
   "metadata": {},
   "outputs": [],
   "source": [
    "for col in categoricals:\n",
    "#     print(f'{col} = {test[col].unique()}')\n",
    "\n",
    "    encoded = encoders[col].transform(test[col])\n",
    "#     print(y.shape)\n",
    "    if encoded.shape[1] > 1:\n",
    "        ne = pd.DataFrame(encoded, columns=[f'{col}_{clas}' for clas in encoders[col].classes_])\n",
    "        to_drop.append(col)\n",
    "    else:\n",
    "        ne = pd.DataFrame(encoded, columns=[col])\n",
    "    test = test.drop([col], axis = 1)\n",
    "    test = pd.concat([test, ne], axis=1)"
   ]
  },
  {
   "cell_type": "code",
   "execution_count": 316,
   "metadata": {},
   "outputs": [
    {
     "data": {
      "text/html": [
       "<div>\n",
       "<style scoped>\n",
       "    .dataframe tbody tr th:only-of-type {\n",
       "        vertical-align: middle;\n",
       "    }\n",
       "\n",
       "    .dataframe tbody tr th {\n",
       "        vertical-align: top;\n",
       "    }\n",
       "\n",
       "    .dataframe thead th {\n",
       "        text-align: right;\n",
       "    }\n",
       "</style>\n",
       "<table border=\"1\" class=\"dataframe\">\n",
       "  <thead>\n",
       "    <tr style=\"text-align: right;\">\n",
       "      <th></th>\n",
       "      <th>Id</th>\n",
       "      <th>MSSubClass</th>\n",
       "      <th>LotFrontage</th>\n",
       "      <th>LotArea</th>\n",
       "      <th>OverallQual</th>\n",
       "      <th>OverallCond</th>\n",
       "      <th>YearBuilt</th>\n",
       "      <th>YearRemodAdd</th>\n",
       "      <th>MasVnrArea</th>\n",
       "      <th>BsmtFinSF1</th>\n",
       "      <th>...</th>\n",
       "      <th>SaleType_ConLw</th>\n",
       "      <th>SaleType_New</th>\n",
       "      <th>SaleType_Oth</th>\n",
       "      <th>SaleType_WD</th>\n",
       "      <th>SaleCondition_Abnorml</th>\n",
       "      <th>SaleCondition_AdjLand</th>\n",
       "      <th>SaleCondition_Alloca</th>\n",
       "      <th>SaleCondition_Family</th>\n",
       "      <th>SaleCondition_Normal</th>\n",
       "      <th>SaleCondition_Partial</th>\n",
       "    </tr>\n",
       "  </thead>\n",
       "  <tbody>\n",
       "    <tr>\n",
       "      <th>0</th>\n",
       "      <td>1461</td>\n",
       "      <td>20</td>\n",
       "      <td>80.0</td>\n",
       "      <td>11622</td>\n",
       "      <td>5</td>\n",
       "      <td>6</td>\n",
       "      <td>1961</td>\n",
       "      <td>1961</td>\n",
       "      <td>0.0</td>\n",
       "      <td>468.0</td>\n",
       "      <td>...</td>\n",
       "      <td>0</td>\n",
       "      <td>0</td>\n",
       "      <td>0</td>\n",
       "      <td>1</td>\n",
       "      <td>0</td>\n",
       "      <td>0</td>\n",
       "      <td>0</td>\n",
       "      <td>0</td>\n",
       "      <td>1</td>\n",
       "      <td>0</td>\n",
       "    </tr>\n",
       "    <tr>\n",
       "      <th>1</th>\n",
       "      <td>1462</td>\n",
       "      <td>20</td>\n",
       "      <td>81.0</td>\n",
       "      <td>14267</td>\n",
       "      <td>6</td>\n",
       "      <td>6</td>\n",
       "      <td>1958</td>\n",
       "      <td>1958</td>\n",
       "      <td>108.0</td>\n",
       "      <td>923.0</td>\n",
       "      <td>...</td>\n",
       "      <td>0</td>\n",
       "      <td>0</td>\n",
       "      <td>0</td>\n",
       "      <td>1</td>\n",
       "      <td>0</td>\n",
       "      <td>0</td>\n",
       "      <td>0</td>\n",
       "      <td>0</td>\n",
       "      <td>1</td>\n",
       "      <td>0</td>\n",
       "    </tr>\n",
       "    <tr>\n",
       "      <th>2</th>\n",
       "      <td>1463</td>\n",
       "      <td>60</td>\n",
       "      <td>74.0</td>\n",
       "      <td>13830</td>\n",
       "      <td>5</td>\n",
       "      <td>5</td>\n",
       "      <td>1997</td>\n",
       "      <td>1998</td>\n",
       "      <td>0.0</td>\n",
       "      <td>791.0</td>\n",
       "      <td>...</td>\n",
       "      <td>0</td>\n",
       "      <td>0</td>\n",
       "      <td>0</td>\n",
       "      <td>1</td>\n",
       "      <td>0</td>\n",
       "      <td>0</td>\n",
       "      <td>0</td>\n",
       "      <td>0</td>\n",
       "      <td>1</td>\n",
       "      <td>0</td>\n",
       "    </tr>\n",
       "    <tr>\n",
       "      <th>3</th>\n",
       "      <td>1464</td>\n",
       "      <td>60</td>\n",
       "      <td>78.0</td>\n",
       "      <td>9978</td>\n",
       "      <td>6</td>\n",
       "      <td>6</td>\n",
       "      <td>1998</td>\n",
       "      <td>1998</td>\n",
       "      <td>20.0</td>\n",
       "      <td>602.0</td>\n",
       "      <td>...</td>\n",
       "      <td>0</td>\n",
       "      <td>0</td>\n",
       "      <td>0</td>\n",
       "      <td>1</td>\n",
       "      <td>0</td>\n",
       "      <td>0</td>\n",
       "      <td>0</td>\n",
       "      <td>0</td>\n",
       "      <td>1</td>\n",
       "      <td>0</td>\n",
       "    </tr>\n",
       "    <tr>\n",
       "      <th>4</th>\n",
       "      <td>1465</td>\n",
       "      <td>120</td>\n",
       "      <td>43.0</td>\n",
       "      <td>5005</td>\n",
       "      <td>8</td>\n",
       "      <td>5</td>\n",
       "      <td>1992</td>\n",
       "      <td>1992</td>\n",
       "      <td>0.0</td>\n",
       "      <td>263.0</td>\n",
       "      <td>...</td>\n",
       "      <td>0</td>\n",
       "      <td>0</td>\n",
       "      <td>0</td>\n",
       "      <td>1</td>\n",
       "      <td>0</td>\n",
       "      <td>0</td>\n",
       "      <td>0</td>\n",
       "      <td>0</td>\n",
       "      <td>1</td>\n",
       "      <td>0</td>\n",
       "    </tr>\n",
       "  </tbody>\n",
       "</table>\n",
       "<p>5 rows × 273 columns</p>\n",
       "</div>"
      ],
      "text/plain": [
       "     Id  MSSubClass  LotFrontage  LotArea  OverallQual  OverallCond  \\\n",
       "0  1461          20         80.0    11622            5            6   \n",
       "1  1462          20         81.0    14267            6            6   \n",
       "2  1463          60         74.0    13830            5            5   \n",
       "3  1464          60         78.0     9978            6            6   \n",
       "4  1465         120         43.0     5005            8            5   \n",
       "\n",
       "   YearBuilt  YearRemodAdd  MasVnrArea  BsmtFinSF1  ...  SaleType_ConLw  \\\n",
       "0       1961          1961         0.0       468.0  ...               0   \n",
       "1       1958          1958       108.0       923.0  ...               0   \n",
       "2       1997          1998         0.0       791.0  ...               0   \n",
       "3       1998          1998        20.0       602.0  ...               0   \n",
       "4       1992          1992         0.0       263.0  ...               0   \n",
       "\n",
       "   SaleType_New  SaleType_Oth  SaleType_WD  SaleCondition_Abnorml  \\\n",
       "0             0             0            1                      0   \n",
       "1             0             0            1                      0   \n",
       "2             0             0            1                      0   \n",
       "3             0             0            1                      0   \n",
       "4             0             0            1                      0   \n",
       "\n",
       "   SaleCondition_AdjLand  SaleCondition_Alloca  SaleCondition_Family  \\\n",
       "0                      0                     0                     0   \n",
       "1                      0                     0                     0   \n",
       "2                      0                     0                     0   \n",
       "3                      0                     0                     0   \n",
       "4                      0                     0                     0   \n",
       "\n",
       "   SaleCondition_Normal  SaleCondition_Partial  \n",
       "0                     1                      0  \n",
       "1                     1                      0  \n",
       "2                     1                      0  \n",
       "3                     1                      0  \n",
       "4                     1                      0  \n",
       "\n",
       "[5 rows x 273 columns]"
      ]
     },
     "execution_count": 316,
     "metadata": {},
     "output_type": "execute_result"
    }
   ],
   "source": [
    "test.head()"
   ]
  },
  {
   "cell_type": "code",
   "execution_count": 317,
   "metadata": {},
   "outputs": [],
   "source": [
    "Id_col = test['Id']\n",
    "X_test = test.drop(['Id'], axis = 1)"
   ]
  },
  {
   "cell_type": "code",
   "execution_count": 318,
   "metadata": {},
   "outputs": [
    {
     "data": {
      "text/plain": [
       "{'MSSubClass': StandardScaler(),\n",
       " 'LotFrontage': StandardScaler(),\n",
       " 'LotArea': StandardScaler(),\n",
       " 'OverallQual': StandardScaler(),\n",
       " 'OverallCond': StandardScaler(),\n",
       " 'YearBuilt': StandardScaler(),\n",
       " 'YearRemodAdd': StandardScaler(),\n",
       " 'MasVnrArea': StandardScaler(),\n",
       " 'BsmtFinSF1': StandardScaler(),\n",
       " 'BsmtFinSF2': StandardScaler(),\n",
       " 'BsmtUnfSF': StandardScaler(),\n",
       " 'TotalBsmtSF': StandardScaler(),\n",
       " '1stFlrSF': StandardScaler(),\n",
       " '2ndFlrSF': StandardScaler(),\n",
       " 'LowQualFinSF': StandardScaler(),\n",
       " 'GrLivArea': StandardScaler(),\n",
       " 'BsmtFullBath': StandardScaler(),\n",
       " 'BsmtHalfBath': StandardScaler(),\n",
       " 'FullBath': StandardScaler(),\n",
       " 'HalfBath': StandardScaler(),\n",
       " 'BedroomAbvGr': StandardScaler(),\n",
       " 'KitchenAbvGr': StandardScaler(),\n",
       " 'TotRmsAbvGrd': StandardScaler(),\n",
       " 'Fireplaces': StandardScaler(),\n",
       " 'GarageYrBlt': StandardScaler(),\n",
       " 'GarageCars': StandardScaler(),\n",
       " 'GarageArea': StandardScaler(),\n",
       " 'WoodDeckSF': StandardScaler(),\n",
       " 'OpenPorchSF': StandardScaler(),\n",
       " 'EnclosedPorch': StandardScaler(),\n",
       " '3SsnPorch': StandardScaler(),\n",
       " 'ScreenPorch': StandardScaler(),\n",
       " 'PoolArea': StandardScaler(),\n",
       " 'MiscVal': StandardScaler(),\n",
       " 'MoSold': StandardScaler(),\n",
       " 'YrSold': StandardScaler(),\n",
       " 'MSZoning_C (all)': StandardScaler(),\n",
       " 'MSZoning_FV': StandardScaler(),\n",
       " 'MSZoning_RH': StandardScaler(),\n",
       " 'MSZoning_RL': StandardScaler(),\n",
       " 'MSZoning_RM': StandardScaler(),\n",
       " 'Street': StandardScaler(),\n",
       " 'LotShape_IR1': StandardScaler(),\n",
       " 'LotShape_IR2': StandardScaler(),\n",
       " 'LotShape_IR3': StandardScaler(),\n",
       " 'LotShape_Reg': StandardScaler(),\n",
       " 'LandContour_Bnk': StandardScaler(),\n",
       " 'LandContour_HLS': StandardScaler(),\n",
       " 'LandContour_Low': StandardScaler(),\n",
       " 'LandContour_Lvl': StandardScaler(),\n",
       " 'Utilities': StandardScaler(),\n",
       " 'LotConfig_Corner': StandardScaler(),\n",
       " 'LotConfig_CulDSac': StandardScaler(),\n",
       " 'LotConfig_FR2': StandardScaler(),\n",
       " 'LotConfig_FR3': StandardScaler(),\n",
       " 'LotConfig_Inside': StandardScaler(),\n",
       " 'LandSlope_Gtl': StandardScaler(),\n",
       " 'LandSlope_Mod': StandardScaler(),\n",
       " 'LandSlope_Sev': StandardScaler(),\n",
       " 'Neighborhood_Blmngtn': StandardScaler(),\n",
       " 'Neighborhood_Blueste': StandardScaler(),\n",
       " 'Neighborhood_BrDale': StandardScaler(),\n",
       " 'Neighborhood_BrkSide': StandardScaler(),\n",
       " 'Neighborhood_ClearCr': StandardScaler(),\n",
       " 'Neighborhood_CollgCr': StandardScaler(),\n",
       " 'Neighborhood_Crawfor': StandardScaler(),\n",
       " 'Neighborhood_Edwards': StandardScaler(),\n",
       " 'Neighborhood_Gilbert': StandardScaler(),\n",
       " 'Neighborhood_IDOTRR': StandardScaler(),\n",
       " 'Neighborhood_MeadowV': StandardScaler(),\n",
       " 'Neighborhood_Mitchel': StandardScaler(),\n",
       " 'Neighborhood_NAmes': StandardScaler(),\n",
       " 'Neighborhood_NPkVill': StandardScaler(),\n",
       " 'Neighborhood_NWAmes': StandardScaler(),\n",
       " 'Neighborhood_NoRidge': StandardScaler(),\n",
       " 'Neighborhood_NridgHt': StandardScaler(),\n",
       " 'Neighborhood_OldTown': StandardScaler(),\n",
       " 'Neighborhood_SWISU': StandardScaler(),\n",
       " 'Neighborhood_Sawyer': StandardScaler(),\n",
       " 'Neighborhood_SawyerW': StandardScaler(),\n",
       " 'Neighborhood_Somerst': StandardScaler(),\n",
       " 'Neighborhood_StoneBr': StandardScaler(),\n",
       " 'Neighborhood_Timber': StandardScaler(),\n",
       " 'Neighborhood_Veenker': StandardScaler(),\n",
       " 'Condition1_Artery': StandardScaler(),\n",
       " 'Condition1_Feedr': StandardScaler(),\n",
       " 'Condition1_Norm': StandardScaler(),\n",
       " 'Condition1_PosA': StandardScaler(),\n",
       " 'Condition1_PosN': StandardScaler(),\n",
       " 'Condition1_RRAe': StandardScaler(),\n",
       " 'Condition1_RRAn': StandardScaler(),\n",
       " 'Condition1_RRNe': StandardScaler(),\n",
       " 'Condition1_RRNn': StandardScaler(),\n",
       " 'Condition2_Artery': StandardScaler(),\n",
       " 'Condition2_Feedr': StandardScaler(),\n",
       " 'Condition2_Norm': StandardScaler(),\n",
       " 'Condition2_PosA': StandardScaler(),\n",
       " 'Condition2_PosN': StandardScaler(),\n",
       " 'Condition2_RRAe': StandardScaler(),\n",
       " 'Condition2_RRAn': StandardScaler(),\n",
       " 'Condition2_RRNn': StandardScaler(),\n",
       " 'BldgType_1Fam': StandardScaler(),\n",
       " 'BldgType_2fmCon': StandardScaler(),\n",
       " 'BldgType_Duplex': StandardScaler(),\n",
       " 'BldgType_Twnhs': StandardScaler(),\n",
       " 'BldgType_TwnhsE': StandardScaler(),\n",
       " 'HouseStyle_1.5Fin': StandardScaler(),\n",
       " 'HouseStyle_1.5Unf': StandardScaler(),\n",
       " 'HouseStyle_1Story': StandardScaler(),\n",
       " 'HouseStyle_2.5Fin': StandardScaler(),\n",
       " 'HouseStyle_2.5Unf': StandardScaler(),\n",
       " 'HouseStyle_2Story': StandardScaler(),\n",
       " 'HouseStyle_SFoyer': StandardScaler(),\n",
       " 'HouseStyle_SLvl': StandardScaler(),\n",
       " 'RoofStyle_Flat': StandardScaler(),\n",
       " 'RoofStyle_Gable': StandardScaler(),\n",
       " 'RoofStyle_Gambrel': StandardScaler(),\n",
       " 'RoofStyle_Hip': StandardScaler(),\n",
       " 'RoofStyle_Mansard': StandardScaler(),\n",
       " 'RoofStyle_Shed': StandardScaler(),\n",
       " 'RoofMatl_ClyTile': StandardScaler(),\n",
       " 'RoofMatl_CompShg': StandardScaler(),\n",
       " 'RoofMatl_Membran': StandardScaler(),\n",
       " 'RoofMatl_Metal': StandardScaler(),\n",
       " 'RoofMatl_Roll': StandardScaler(),\n",
       " 'RoofMatl_Tar&Grv': StandardScaler(),\n",
       " 'RoofMatl_WdShake': StandardScaler(),\n",
       " 'RoofMatl_WdShngl': StandardScaler(),\n",
       " 'Exterior1st_AsbShng': StandardScaler(),\n",
       " 'Exterior1st_AsphShn': StandardScaler(),\n",
       " 'Exterior1st_BrkComm': StandardScaler(),\n",
       " 'Exterior1st_BrkFace': StandardScaler(),\n",
       " 'Exterior1st_CBlock': StandardScaler(),\n",
       " 'Exterior1st_CemntBd': StandardScaler(),\n",
       " 'Exterior1st_HdBoard': StandardScaler(),\n",
       " 'Exterior1st_ImStucc': StandardScaler(),\n",
       " 'Exterior1st_MetalSd': StandardScaler(),\n",
       " 'Exterior1st_Plywood': StandardScaler(),\n",
       " 'Exterior1st_Stone': StandardScaler(),\n",
       " 'Exterior1st_Stucco': StandardScaler(),\n",
       " 'Exterior1st_VinylSd': StandardScaler(),\n",
       " 'Exterior1st_Wd Sdng': StandardScaler(),\n",
       " 'Exterior1st_WdShing': StandardScaler(),\n",
       " 'Exterior2nd_AsbShng': StandardScaler(),\n",
       " 'Exterior2nd_AsphShn': StandardScaler(),\n",
       " 'Exterior2nd_Brk Cmn': StandardScaler(),\n",
       " 'Exterior2nd_BrkFace': StandardScaler(),\n",
       " 'Exterior2nd_CBlock': StandardScaler(),\n",
       " 'Exterior2nd_CmentBd': StandardScaler(),\n",
       " 'Exterior2nd_HdBoard': StandardScaler(),\n",
       " 'Exterior2nd_ImStucc': StandardScaler(),\n",
       " 'Exterior2nd_MetalSd': StandardScaler(),\n",
       " 'Exterior2nd_Other': StandardScaler(),\n",
       " 'Exterior2nd_Plywood': StandardScaler(),\n",
       " 'Exterior2nd_Stone': StandardScaler(),\n",
       " 'Exterior2nd_Stucco': StandardScaler(),\n",
       " 'Exterior2nd_VinylSd': StandardScaler(),\n",
       " 'Exterior2nd_Wd Sdng': StandardScaler(),\n",
       " 'Exterior2nd_Wd Shng': StandardScaler(),\n",
       " 'MasVnrType_BrkCmn': StandardScaler(),\n",
       " 'MasVnrType_BrkFace': StandardScaler(),\n",
       " 'MasVnrType_None': StandardScaler(),\n",
       " 'MasVnrType_Stone': StandardScaler(),\n",
       " 'ExterQual_Ex': StandardScaler(),\n",
       " 'ExterQual_Fa': StandardScaler(),\n",
       " 'ExterQual_Gd': StandardScaler(),\n",
       " 'ExterQual_TA': StandardScaler(),\n",
       " 'ExterCond_Ex': StandardScaler(),\n",
       " 'ExterCond_Fa': StandardScaler(),\n",
       " 'ExterCond_Gd': StandardScaler(),\n",
       " 'ExterCond_Po': StandardScaler(),\n",
       " 'ExterCond_TA': StandardScaler(),\n",
       " 'Foundation_BrkTil': StandardScaler(),\n",
       " 'Foundation_CBlock': StandardScaler(),\n",
       " 'Foundation_PConc': StandardScaler(),\n",
       " 'Foundation_Slab': StandardScaler(),\n",
       " 'Foundation_Stone': StandardScaler(),\n",
       " 'Foundation_Wood': StandardScaler(),\n",
       " 'BsmtQual_Ex': StandardScaler(),\n",
       " 'BsmtQual_Fa': StandardScaler(),\n",
       " 'BsmtQual_Gd': StandardScaler(),\n",
       " 'BsmtQual_TA': StandardScaler(),\n",
       " 'BsmtCond_Fa': StandardScaler(),\n",
       " 'BsmtCond_Gd': StandardScaler(),\n",
       " 'BsmtCond_Po': StandardScaler(),\n",
       " 'BsmtCond_TA': StandardScaler(),\n",
       " 'BsmtExposure_Av': StandardScaler(),\n",
       " 'BsmtExposure_Gd': StandardScaler(),\n",
       " 'BsmtExposure_Mn': StandardScaler(),\n",
       " 'BsmtExposure_No': StandardScaler(),\n",
       " 'BsmtFinType1_ALQ': StandardScaler(),\n",
       " 'BsmtFinType1_BLQ': StandardScaler(),\n",
       " 'BsmtFinType1_GLQ': StandardScaler(),\n",
       " 'BsmtFinType1_LwQ': StandardScaler(),\n",
       " 'BsmtFinType1_Rec': StandardScaler(),\n",
       " 'BsmtFinType1_Unf': StandardScaler(),\n",
       " 'BsmtFinType2_ALQ': StandardScaler(),\n",
       " 'BsmtFinType2_BLQ': StandardScaler(),\n",
       " 'BsmtFinType2_GLQ': StandardScaler(),\n",
       " 'BsmtFinType2_LwQ': StandardScaler(),\n",
       " 'BsmtFinType2_Rec': StandardScaler(),\n",
       " 'BsmtFinType2_Unf': StandardScaler(),\n",
       " 'Heating_Floor': StandardScaler(),\n",
       " 'Heating_GasA': StandardScaler(),\n",
       " 'Heating_GasW': StandardScaler(),\n",
       " 'Heating_Grav': StandardScaler(),\n",
       " 'Heating_OthW': StandardScaler(),\n",
       " 'Heating_Wall': StandardScaler(),\n",
       " 'HeatingQC_Ex': StandardScaler(),\n",
       " 'HeatingQC_Fa': StandardScaler(),\n",
       " 'HeatingQC_Gd': StandardScaler(),\n",
       " 'HeatingQC_Po': StandardScaler(),\n",
       " 'HeatingQC_TA': StandardScaler(),\n",
       " 'CentralAir': StandardScaler(),\n",
       " 'Electrical_FuseA': StandardScaler(),\n",
       " 'Electrical_FuseF': StandardScaler(),\n",
       " 'Electrical_FuseP': StandardScaler(),\n",
       " 'Electrical_Mix': StandardScaler(),\n",
       " 'Electrical_SBrkr': StandardScaler(),\n",
       " 'KitchenQual_Ex': StandardScaler(),\n",
       " 'KitchenQual_Fa': StandardScaler(),\n",
       " 'KitchenQual_Gd': StandardScaler(),\n",
       " 'KitchenQual_TA': StandardScaler(),\n",
       " 'Functional_Maj1': StandardScaler(),\n",
       " 'Functional_Maj2': StandardScaler(),\n",
       " 'Functional_Min1': StandardScaler(),\n",
       " 'Functional_Min2': StandardScaler(),\n",
       " 'Functional_Mod': StandardScaler(),\n",
       " 'Functional_Sev': StandardScaler(),\n",
       " 'Functional_Typ': StandardScaler(),\n",
       " 'FireplaceQu_Ex': StandardScaler(),\n",
       " 'FireplaceQu_Fa': StandardScaler(),\n",
       " 'FireplaceQu_Gd': StandardScaler(),\n",
       " 'FireplaceQu_Po': StandardScaler(),\n",
       " 'FireplaceQu_TA': StandardScaler(),\n",
       " 'GarageType_2Types': StandardScaler(),\n",
       " 'GarageType_Attchd': StandardScaler(),\n",
       " 'GarageType_Basment': StandardScaler(),\n",
       " 'GarageType_BuiltIn': StandardScaler(),\n",
       " 'GarageType_CarPort': StandardScaler(),\n",
       " 'GarageType_Detchd': StandardScaler(),\n",
       " 'GarageFinish_Fin': StandardScaler(),\n",
       " 'GarageFinish_RFn': StandardScaler(),\n",
       " 'GarageFinish_Unf': StandardScaler(),\n",
       " 'GarageQual_Ex': StandardScaler(),\n",
       " 'GarageQual_Fa': StandardScaler(),\n",
       " 'GarageQual_Gd': StandardScaler(),\n",
       " 'GarageQual_Po': StandardScaler(),\n",
       " 'GarageQual_TA': StandardScaler(),\n",
       " 'GarageCond_Ex': StandardScaler(),\n",
       " 'GarageCond_Fa': StandardScaler(),\n",
       " 'GarageCond_Gd': StandardScaler(),\n",
       " 'GarageCond_Po': StandardScaler(),\n",
       " 'GarageCond_TA': StandardScaler(),\n",
       " 'PavedDrive_N': StandardScaler(),\n",
       " 'PavedDrive_P': StandardScaler(),\n",
       " 'PavedDrive_Y': StandardScaler(),\n",
       " 'SaleType_COD': StandardScaler(),\n",
       " 'SaleType_CWD': StandardScaler(),\n",
       " 'SaleType_Con': StandardScaler(),\n",
       " 'SaleType_ConLD': StandardScaler(),\n",
       " 'SaleType_ConLI': StandardScaler(),\n",
       " 'SaleType_ConLw': StandardScaler(),\n",
       " 'SaleType_New': StandardScaler(),\n",
       " 'SaleType_Oth': StandardScaler(),\n",
       " 'SaleType_WD': StandardScaler(),\n",
       " 'SaleCondition_Abnorml': StandardScaler(),\n",
       " 'SaleCondition_AdjLand': StandardScaler(),\n",
       " 'SaleCondition_Alloca': StandardScaler(),\n",
       " 'SaleCondition_Family': StandardScaler(),\n",
       " 'SaleCondition_Normal': StandardScaler(),\n",
       " 'SaleCondition_Partial': StandardScaler()}"
      ]
     },
     "execution_count": 318,
     "metadata": {},
     "output_type": "execute_result"
    }
   ],
   "source": [
    "scalers"
   ]
  },
  {
   "cell_type": "code",
   "execution_count": 319,
   "metadata": {},
   "outputs": [],
   "source": [
    "from sklearn.preprocessing import MinMaxScaler\n",
    "for col in X_test:\n",
    "    X_test[col] = scalers[col].transform(np.array(X_test[col]).reshape(-1, 1))\n",
    "     \n"
   ]
  },
  {
   "cell_type": "code",
   "execution_count": 580,
   "metadata": {},
   "outputs": [],
   "source": [
    "my_pred = lr_model.predict(X_test)"
   ]
  },
  {
   "cell_type": "code",
   "execution_count": 581,
   "metadata": {},
   "outputs": [
    {
     "data": {
      "text/plain": [
       "array([109392.66174316, 152254.56469727, 186848.2947998 , ...,\n",
       "       180758.60296631, 105995.24700928, 224207.48864746])"
      ]
     },
     "execution_count": 581,
     "metadata": {},
     "output_type": "execute_result"
    }
   ],
   "source": [
    "my_pred"
   ]
  },
  {
   "cell_type": "code",
   "execution_count": 582,
   "metadata": {},
   "outputs": [],
   "source": [
    "pred_series = pd.Series(my_pred, name='SalePrice')"
   ]
  },
  {
   "cell_type": "code",
   "execution_count": 583,
   "metadata": {},
   "outputs": [],
   "source": [
    "output = pd.concat([Id_col, pred_series], axis=1)"
   ]
  },
  {
   "cell_type": "code",
   "execution_count": 584,
   "metadata": {},
   "outputs": [
    {
     "data": {
      "text/html": [
       "<div>\n",
       "<style scoped>\n",
       "    .dataframe tbody tr th:only-of-type {\n",
       "        vertical-align: middle;\n",
       "    }\n",
       "\n",
       "    .dataframe tbody tr th {\n",
       "        vertical-align: top;\n",
       "    }\n",
       "\n",
       "    .dataframe thead th {\n",
       "        text-align: right;\n",
       "    }\n",
       "</style>\n",
       "<table border=\"1\" class=\"dataframe\">\n",
       "  <thead>\n",
       "    <tr style=\"text-align: right;\">\n",
       "      <th></th>\n",
       "      <th>Id</th>\n",
       "      <th>SalePrice</th>\n",
       "    </tr>\n",
       "  </thead>\n",
       "  <tbody>\n",
       "    <tr>\n",
       "      <th>0</th>\n",
       "      <td>1461</td>\n",
       "      <td>109392.661743</td>\n",
       "    </tr>\n",
       "    <tr>\n",
       "      <th>1</th>\n",
       "      <td>1462</td>\n",
       "      <td>152254.564697</td>\n",
       "    </tr>\n",
       "    <tr>\n",
       "      <th>2</th>\n",
       "      <td>1463</td>\n",
       "      <td>186848.294800</td>\n",
       "    </tr>\n",
       "    <tr>\n",
       "      <th>3</th>\n",
       "      <td>1464</td>\n",
       "      <td>192210.252869</td>\n",
       "    </tr>\n",
       "    <tr>\n",
       "      <th>4</th>\n",
       "      <td>1465</td>\n",
       "      <td>205223.612793</td>\n",
       "    </tr>\n",
       "  </tbody>\n",
       "</table>\n",
       "</div>"
      ],
      "text/plain": [
       "     Id      SalePrice\n",
       "0  1461  109392.661743\n",
       "1  1462  152254.564697\n",
       "2  1463  186848.294800\n",
       "3  1464  192210.252869\n",
       "4  1465  205223.612793"
      ]
     },
     "execution_count": 584,
     "metadata": {},
     "output_type": "execute_result"
    }
   ],
   "source": [
    "output.head()"
   ]
  },
  {
   "cell_type": "code",
   "execution_count": 592,
   "metadata": {},
   "outputs": [],
   "source": [
    "output.to_csv('./submissions/lr_kaggle_submssion.csv', index = False)"
   ]
  },
  {
   "cell_type": "code",
   "execution_count": 593,
   "metadata": {},
   "outputs": [],
   "source": [
    "# Simple Linear Regression got score 0.85796 and 4989 position"
   ]
  },
  {
   "cell_type": "code",
   "execution_count": 594,
   "metadata": {},
   "outputs": [],
   "source": [
    "from sklearn.ensemble import RandomForestRegressor"
   ]
  },
  {
   "cell_type": "code",
   "execution_count": 595,
   "metadata": {},
   "outputs": [],
   "source": [
    "X_train, X_test, y_train, y_test = train_test_split(X, y, test_size = 0.2)"
   ]
  },
  {
   "cell_type": "code",
   "execution_count": 596,
   "metadata": {},
   "outputs": [],
   "source": [
    "rf_model = RandomForestRegressor()"
   ]
  },
  {
   "cell_type": "code",
   "execution_count": 597,
   "metadata": {},
   "outputs": [
    {
     "data": {
      "text/plain": [
       "RandomForestRegressor()"
      ]
     },
     "execution_count": 597,
     "metadata": {},
     "output_type": "execute_result"
    }
   ],
   "source": [
    "rf_model.fit(X, y)"
   ]
  },
  {
   "cell_type": "code",
   "execution_count": 598,
   "metadata": {},
   "outputs": [],
   "source": [
    "Id_col = test['Id']\n",
    "X_kaggle_test = test.drop(['Id'], axis = 1)"
   ]
  },
  {
   "cell_type": "code",
   "execution_count": 599,
   "metadata": {},
   "outputs": [],
   "source": [
    "my_pred = rf_model.predict(X_kaggle_test)\n",
    "pred_series = pd.Series(my_pred, name='SalePrice')\n",
    "output = pd.concat([Id_col, pred_series], axis=1)\n",
    "output.to_csv('rf_kaggle_submssion.csv', index = False)"
   ]
  },
  {
   "cell_type": "code",
   "execution_count": 600,
   "metadata": {},
   "outputs": [],
   "source": [
    "# Random Forest Regressor got score 0.14668 and 2965 position"
   ]
  },
  {
   "cell_type": "code",
   "execution_count": 601,
   "metadata": {},
   "outputs": [],
   "source": [
    "from sklearn.ensemble import GradientBoostingRegressor"
   ]
  },
  {
   "cell_type": "code",
   "execution_count": 602,
   "metadata": {},
   "outputs": [],
   "source": [
    "gb_model = GradientBoostingRegressor(n_estimators=100, learning_rate=0.1,max_depth=1, random_state=0, loss='ls')"
   ]
  },
  {
   "cell_type": "code",
   "execution_count": 603,
   "metadata": {},
   "outputs": [
    {
     "data": {
      "text/plain": [
       "GradientBoostingRegressor(max_depth=1, random_state=0)"
      ]
     },
     "execution_count": 603,
     "metadata": {},
     "output_type": "execute_result"
    }
   ],
   "source": [
    "gb_model.fit(X, y)"
   ]
  },
  {
   "cell_type": "code",
   "execution_count": 604,
   "metadata": {},
   "outputs": [],
   "source": [
    "my_pred = gb_model.predict(X_kaggle_test)\n",
    "pred_series = pd.Series(my_pred, name='SalePrice')\n",
    "output = pd.concat([Id_col, pred_series], axis=1)\n",
    "output.to_csv('./submissions/gb_kaggle_submssion.csv', index = False)"
   ]
  },
  {
   "cell_type": "code",
   "execution_count": 605,
   "metadata": {},
   "outputs": [],
   "source": [
    " # GradientBoosting Regressor got score 0.17547"
   ]
  },
  {
   "cell_type": "code",
   "execution_count": 606,
   "metadata": {},
   "outputs": [],
   "source": [
    "from sklearn.neural_network import MLPRegressor"
   ]
  },
  {
   "cell_type": "code",
   "execution_count": 607,
   "metadata": {},
   "outputs": [],
   "source": [
    "mlp_model = MLPRegressor(random_state=1, max_iter=5000)"
   ]
  },
  {
   "cell_type": "code",
   "execution_count": 608,
   "metadata": {},
   "outputs": [
    {
     "data": {
      "text/plain": [
       "MLPRegressor(max_iter=5000, random_state=1)"
      ]
     },
     "execution_count": 608,
     "metadata": {},
     "output_type": "execute_result"
    }
   ],
   "source": [
    "mlp_model.fit(X, y)"
   ]
  },
  {
   "cell_type": "code",
   "execution_count": 609,
   "metadata": {},
   "outputs": [],
   "source": [
    "my_pred = mlp_model.predict(X_kaggle_test)\n",
    "pred_series = pd.Series(my_pred, name='SalePrice')\n",
    "output = pd.concat([Id_col, pred_series], axis=1)\n",
    "output.to_csv('./submissions/mlp_kaggle_submssion.csv', index = False)"
   ]
  },
  {
   "cell_type": "code",
   "execution_count": null,
   "metadata": {},
   "outputs": [],
   "source": []
  },
  {
   "cell_type": "code",
   "execution_count": 387,
   "metadata": {},
   "outputs": [],
   "source": []
  },
  {
   "cell_type": "code",
   "execution_count": 610,
   "metadata": {},
   "outputs": [],
   "source": [
    "#!pip3 install xgboost"
   ]
  },
  {
   "cell_type": "code",
   "execution_count": 226,
   "metadata": {},
   "outputs": [],
   "source": [
    "import xgboost as xgb"
   ]
  },
  {
   "cell_type": "code",
   "execution_count": 227,
   "metadata": {},
   "outputs": [],
   "source": [
    "xgb_model = xgb.XGBRegressor(objective=\"reg:squarederror\", random_state=11196)"
   ]
  },
  {
   "cell_type": "code",
   "execution_count": 228,
   "metadata": {},
   "outputs": [
    {
     "data": {
      "text/plain": [
       "XGBRegressor(base_score=0.5, booster='gbtree', colsample_bylevel=1,\n",
       "             colsample_bynode=1, colsample_bytree=1, gamma=0, gpu_id=-1,\n",
       "             importance_type='gain', interaction_constraints='',\n",
       "             learning_rate=0.300000012, max_delta_step=0, max_depth=6,\n",
       "             min_child_weight=1, missing=nan, monotone_constraints='()',\n",
       "             n_estimators=100, n_jobs=0, num_parallel_tree=1,\n",
       "             random_state=11196, reg_alpha=0, reg_lambda=1, scale_pos_weight=1,\n",
       "             subsample=1, tree_method='exact', validate_parameters=1,\n",
       "             verbosity=None)"
      ]
     },
     "execution_count": 228,
     "metadata": {},
     "output_type": "execute_result"
    }
   ],
   "source": [
    "xgb_model.fit(X, y)"
   ]
  },
  {
   "cell_type": "code",
   "execution_count": 229,
   "metadata": {},
   "outputs": [],
   "source": [
    "my_pred = xgb_model.predict(X_test)\n",
    "pred_series = pd.Series(my_pred, name='SalePrice')\n",
    "output = pd.concat([Id_col, pred_series], axis=1)\n",
    "output.to_csv(f'./submissions/xgb_kaggle_submssion_{datetime.now().strftime(\"%d-%b-%Y_(%H-%M-%S)\")}.csv', index = False)"
   ]
  },
  {
   "cell_type": "code",
   "execution_count": 399,
   "metadata": {},
   "outputs": [],
   "source": [
    "# XGB Regressor got score 0.14274 and 2645 position"
   ]
  },
  {
   "cell_type": "code",
   "execution_count": 234,
   "metadata": {},
   "outputs": [
    {
     "name": "stdout",
     "output_type": "stream",
     "text": [
      "Collecting mlxtend\n",
      "  Downloading mlxtend-0.17.3-py2.py3-none-any.whl (1.3 MB)\n",
      "Requirement already satisfied: numpy>=1.16.2 in c:\\users\\hassa\\.virtualenvs\\mit_deep_learning-6vn7g6jr\\lib\\site-packages (from mlxtend) (1.19.1)\n",
      "Requirement already satisfied: scipy>=1.2.1 in c:\\users\\hassa\\.virtualenvs\\mit_deep_learning-6vn7g6jr\\lib\\site-packages (from mlxtend) (1.4.1)\n",
      "Requirement already satisfied: setuptools in c:\\users\\hassa\\.virtualenvs\\mit_deep_learning-6vn7g6jr\\lib\\site-packages (from mlxtend) (45.2.0)\n",
      "Requirement already satisfied: scikit-learn>=0.20.3 in c:\\users\\hassa\\.virtualenvs\\mit_deep_learning-6vn7g6jr\\lib\\site-packages (from mlxtend) (0.23.1)\n",
      "Requirement already satisfied: joblib>=0.13.2 in c:\\users\\hassa\\.virtualenvs\\mit_deep_learning-6vn7g6jr\\lib\\site-packages (from mlxtend) (0.16.0)\n",
      "Requirement already satisfied: matplotlib>=3.0.0 in c:\\users\\hassa\\.virtualenvs\\mit_deep_learning-6vn7g6jr\\lib\\site-packages (from mlxtend) (3.3.0)\n",
      "Requirement already satisfied: pandas>=0.24.2 in c:\\users\\hassa\\.virtualenvs\\mit_deep_learning-6vn7g6jr\\lib\\site-packages (from mlxtend) (1.1.0)\n",
      "Requirement already satisfied: threadpoolctl>=2.0.0 in c:\\users\\hassa\\.virtualenvs\\mit_deep_learning-6vn7g6jr\\lib\\site-packages (from scikit-learn>=0.20.3->mlxtend) (2.1.0)\n",
      "Requirement already satisfied: python-dateutil>=2.1 in c:\\users\\hassa\\.virtualenvs\\mit_deep_learning-6vn7g6jr\\lib\\site-packages (from matplotlib>=3.0.0->mlxtend) (2.8.1)\n",
      "Requirement already satisfied: cycler>=0.10 in c:\\users\\hassa\\.virtualenvs\\mit_deep_learning-6vn7g6jr\\lib\\site-packages (from matplotlib>=3.0.0->mlxtend) (0.10.0)\n",
      "Requirement already satisfied: pillow>=6.2.0 in c:\\users\\hassa\\.virtualenvs\\mit_deep_learning-6vn7g6jr\\lib\\site-packages (from matplotlib>=3.0.0->mlxtend) (7.2.0)\n",
      "Requirement already satisfied: kiwisolver>=1.0.1 in c:\\users\\hassa\\.virtualenvs\\mit_deep_learning-6vn7g6jr\\lib\\site-packages (from matplotlib>=3.0.0->mlxtend) (1.2.0)\n",
      "Requirement already satisfied: pyparsing!=2.0.4,!=2.1.2,!=2.1.6,>=2.0.3 in c:\\users\\hassa\\.virtualenvs\\mit_deep_learning-6vn7g6jr\\lib\\site-packages (from matplotlib>=3.0.0->mlxtend) (2.4.7)\n",
      "Requirement already satisfied: pytz>=2017.2 in c:\\users\\hassa\\.virtualenvs\\mit_deep_learning-6vn7g6jr\\lib\\site-packages (from pandas>=0.24.2->mlxtend) (2020.1)\n",
      "Requirement already satisfied: six>=1.5 in c:\\users\\hassa\\.virtualenvs\\mit_deep_learning-6vn7g6jr\\lib\\site-packages (from python-dateutil>=2.1->matplotlib>=3.0.0->mlxtend) (1.15.0)\n",
      "Installing collected packages: mlxtend\n",
      "Successfully installed mlxtend-0.17.3\n"
     ]
    }
   ],
   "source": [
    "!pip install mlxtend"
   ]
  },
  {
   "cell_type": "code",
   "execution_count": 235,
   "metadata": {},
   "outputs": [],
   "source": [
    "from sklearn.ensemble import RandomForestRegressor\n",
    "from sklearn.ensemble import VotingRegressor\n",
    "from sklearn.linear_model import LogisticRegression\n",
    "from sklearn.linear_model import LinearRegression\n",
    "from sklearn.metrics import mean_squared_error\n",
    "from sklearn.svm import SVR\n",
    "from sklearn.linear_model import Ridge\n",
    "from sklearn.linear_model import Ridge\n",
    "from sklearn.linear_model import Lasso\n",
    "from sklearn.linear_model import ElasticNet\n",
    "from sklearn.ensemble import GradientBoostingRegressor\n",
    "# from lightgbm import LGBMRegressor\n",
    "from xgboost import XGBRegressor\n",
    "from mlxtend.regressor import StackingCVRegressor\n",
    "from sklearn.model_selection import KFold, cross_val_score\n"
   ]
  },
  {
   "cell_type": "code",
   "execution_count": 236,
   "metadata": {},
   "outputs": [],
   "source": [
    "lasso = Lasso(alpha = 0.0005)\n",
    "ridge = Ridge(alpha = 11.9)\n",
    "elasticnet = ElasticNet(alpha = 0.001)\n",
    "gbr = GradientBoostingRegressor(learning_rate = 0.1, loss = 'huber', max_depth = 1, max_features ='sqrt',\n",
    "                                min_samples_leaf = 15, min_samples_split = 10, n_estimators =3000)\n",
    "# lightgbm = LGBMRegressor(learning_rate = 0.01, n_estimators = 5000, num_leaves = 4)\n",
    "xgboost = XGBRegressor(learning_rate = 0.01, max_depth = 3, n_estimators = 3500)"
   ]
  },
  {
   "cell_type": "code",
   "execution_count": 237,
   "metadata": {},
   "outputs": [],
   "source": [
    "scvr = StackingCVRegressor(regressors=(ridge, lasso, elasticnet, gbr, xgboost),\n",
    "                                meta_regressor=xgboost,\n",
    "                                use_features_in_secondary=True)"
   ]
  },
  {
   "cell_type": "code",
   "execution_count": 278,
   "metadata": {
    "scrolled": true
   },
   "outputs": [
    {
     "name": "stderr",
     "output_type": "stream",
     "text": [
      "c:\\users\\hassa\\.virtualenvs\\mit_deep_learning-6vn7g6jr\\lib\\site-packages\\sklearn\\linear_model\\_coordinate_descent.py:531: ConvergenceWarning: Objective did not converge. You might want to increase the number of iterations. Duality gap: 114562553810.28876, tolerance: 749680604.11125\n",
      "  positive)\n",
      "c:\\users\\hassa\\.virtualenvs\\mit_deep_learning-6vn7g6jr\\lib\\site-packages\\sklearn\\linear_model\\_coordinate_descent.py:531: ConvergenceWarning: Objective did not converge. You might want to increase the number of iterations. Duality gap: 113478414962.83917, tolerance: 653204084.4196465\n",
      "  positive)\n",
      "c:\\users\\hassa\\.virtualenvs\\mit_deep_learning-6vn7g6jr\\lib\\site-packages\\sklearn\\linear_model\\_coordinate_descent.py:531: ConvergenceWarning: Objective did not converge. You might want to increase the number of iterations. Duality gap: 156706291684.53162, tolerance: 751884521.6800628\n",
      "  positive)\n",
      "c:\\users\\hassa\\.virtualenvs\\mit_deep_learning-6vn7g6jr\\lib\\site-packages\\sklearn\\linear_model\\_coordinate_descent.py:531: ConvergenceWarning: Objective did not converge. You might want to increase the number of iterations. Duality gap: 128754351025.79669, tolerance: 741571527.0537972\n",
      "  positive)\n",
      "c:\\users\\hassa\\.virtualenvs\\mit_deep_learning-6vn7g6jr\\lib\\site-packages\\sklearn\\linear_model\\_coordinate_descent.py:531: ConvergenceWarning: Objective did not converge. You might want to increase the number of iterations. Duality gap: 113312230243.49149, tolerance: 786076330.6192313\n",
      "  positive)\n",
      "c:\\users\\hassa\\.virtualenvs\\mit_deep_learning-6vn7g6jr\\lib\\site-packages\\sklearn\\linear_model\\_coordinate_descent.py:531: ConvergenceWarning: Objective did not converge. You might want to increase the number of iterations. Duality gap: 247766719587.58636, tolerance: 697188739.1670774\n",
      "  positive)\n",
      "c:\\users\\hassa\\.virtualenvs\\mit_deep_learning-6vn7g6jr\\lib\\site-packages\\sklearn\\linear_model\\_coordinate_descent.py:531: ConvergenceWarning: Objective did not converge. You might want to increase the number of iterations. Duality gap: 323593764555.0995, tolerance: 759085122.6356951\n",
      "  positive)\n",
      "c:\\users\\hassa\\.virtualenvs\\mit_deep_learning-6vn7g6jr\\lib\\site-packages\\sklearn\\linear_model\\_coordinate_descent.py:531: ConvergenceWarning: Objective did not converge. You might want to increase the number of iterations. Duality gap: 288020774467.1864, tolerance: 767624405.728348\n",
      "  positive)\n",
      "c:\\users\\hassa\\.virtualenvs\\mit_deep_learning-6vn7g6jr\\lib\\site-packages\\sklearn\\linear_model\\_coordinate_descent.py:531: ConvergenceWarning: Objective did not converge. You might want to increase the number of iterations. Duality gap: 312154684944.0351, tolerance: 748183028.3488184\n",
      "  positive)\n",
      "c:\\users\\hassa\\.virtualenvs\\mit_deep_learning-6vn7g6jr\\lib\\site-packages\\sklearn\\linear_model\\_coordinate_descent.py:531: ConvergenceWarning: Objective did not converge. You might want to increase the number of iterations. Duality gap: 279950005940.1206, tolerance: 710686681.9734383\n",
      "  positive)\n",
      "c:\\users\\hassa\\.virtualenvs\\mit_deep_learning-6vn7g6jr\\lib\\site-packages\\sklearn\\linear_model\\_coordinate_descent.py:531: ConvergenceWarning: Objective did not converge. You might want to increase the number of iterations. Duality gap: 159637164590.37314, tolerance: 920791133.4609975\n",
      "  positive)\n",
      "c:\\users\\hassa\\.virtualenvs\\mit_deep_learning-6vn7g6jr\\lib\\site-packages\\sklearn\\linear_model\\_coordinate_descent.py:531: ConvergenceWarning: Objective did not converge. You might want to increase the number of iterations. Duality gap: 386258147534.5672, tolerance: 920791133.4609975\n",
      "  positive)\n"
     ]
    },
    {
     "data": {
      "text/plain": [
       "StackingCVRegressor(meta_regressor=XGBRegressor(base_score=None, booster=None,\n",
       "                                                colsample_bylevel=None,\n",
       "                                                colsample_bynode=None,\n",
       "                                                colsample_bytree=None,\n",
       "                                                gamma=None, gpu_id=None,\n",
       "                                                importance_type='gain',\n",
       "                                                interaction_constraints=None,\n",
       "                                                learning_rate=0.01,\n",
       "                                                max_delta_step=None,\n",
       "                                                max_depth=3,\n",
       "                                                min_child_weight=None,\n",
       "                                                missing=nan,\n",
       "                                                monotone_constraints=None,\n",
       "                                                n_estimators=3500, n_...\n",
       "                                             interaction_constraints=None,\n",
       "                                             learning_rate=0.01,\n",
       "                                             max_delta_step=None, max_depth=3,\n",
       "                                             min_child_weight=None, missing=nan,\n",
       "                                             monotone_constraints=None,\n",
       "                                             n_estimators=3500, n_jobs=None,\n",
       "                                             num_parallel_tree=None,\n",
       "                                             random_state=None, reg_alpha=None,\n",
       "                                             reg_lambda=None,\n",
       "                                             scale_pos_weight=None,\n",
       "                                             subsample=None, tree_method=None,\n",
       "                                             validate_parameters=None,\n",
       "                                             verbosity=None)),\n",
       "                    use_features_in_secondary=True)"
      ]
     },
     "execution_count": 278,
     "metadata": {},
     "output_type": "execute_result"
    }
   ],
   "source": [
    "scvr.fit(X, y)"
   ]
  },
  {
   "cell_type": "code",
   "execution_count": 279,
   "metadata": {},
   "outputs": [
    {
     "ename": "ValueError",
     "evalue": "feature_names mismatch: ['f0', 'f1', 'f2', 'f3', 'f4', 'f5', 'f6', 'f7', 'f8', 'f9', 'f10', 'f11', 'f12', 'f13', 'f14', 'f15', 'f16', 'f17', 'f18', 'f19', 'f20', 'f21', 'f22', 'f23', 'f24', 'f25', 'f26', 'f27', 'f28', 'f29', 'f30', 'f31', 'f32', 'f33', 'f34', 'f35', 'f36', 'f37', 'f38', 'f39', 'f40', 'f41', 'f42', 'f43', 'f44', 'f45', 'f46', 'f47', 'f48', 'f49', 'f50', 'f51', 'f52', 'f53', 'f54', 'f55', 'f56', 'f57', 'f58', 'f59', 'f60', 'f61', 'f62', 'f63', 'f64', 'f65', 'f66', 'f67', 'f68', 'f69', 'f70', 'f71', 'f72', 'f73', 'f74', 'f75', 'f76', 'f77', 'f78', 'f79', 'f80', 'f81', 'f82', 'f83', 'f84', 'f85', 'f86', 'f87', 'f88', 'f89', 'f90', 'f91', 'f92', 'f93', 'f94', 'f95', 'f96', 'f97', 'f98', 'f99', 'f100', 'f101', 'f102', 'f103', 'f104', 'f105', 'f106', 'f107', 'f108', 'f109', 'f110', 'f111', 'f112', 'f113', 'f114', 'f115', 'f116', 'f117', 'f118', 'f119', 'f120', 'f121', 'f122', 'f123', 'f124', 'f125', 'f126', 'f127', 'f128', 'f129', 'f130', 'f131', 'f132', 'f133', 'f134', 'f135', 'f136', 'f137', 'f138', 'f139', 'f140', 'f141', 'f142', 'f143', 'f144', 'f145', 'f146', 'f147', 'f148', 'f149', 'f150', 'f151', 'f152', 'f153', 'f154', 'f155', 'f156', 'f157', 'f158', 'f159', 'f160', 'f161', 'f162', 'f163', 'f164', 'f165', 'f166', 'f167', 'f168', 'f169', 'f170', 'f171', 'f172', 'f173', 'f174', 'f175', 'f176', 'f177', 'f178', 'f179', 'f180', 'f181', 'f182', 'f183', 'f184', 'f185', 'f186', 'f187', 'f188', 'f189', 'f190', 'f191', 'f192', 'f193', 'f194', 'f195', 'f196', 'f197', 'f198', 'f199', 'f200', 'f201', 'f202', 'f203', 'f204', 'f205', 'f206', 'f207', 'f208', 'f209', 'f210', 'f211', 'f212', 'f213', 'f214', 'f215', 'f216', 'f217', 'f218', 'f219', 'f220', 'f221', 'f222', 'f223', 'f224', 'f225', 'f226', 'f227', 'f228', 'f229', 'f230', 'f231', 'f232', 'f233', 'f234', 'f235', 'f236', 'f237', 'f238', 'f239', 'f240', 'f241', 'f242', 'f243', 'f244', 'f245', 'f246', 'f247', 'f248', 'f249', 'f250', 'f251', 'f252', 'f253', 'f254', 'f255', 'f256', 'f257', 'f258', 'f259', 'f260', 'f261', 'f262', 'f263', 'f264', 'f265', 'f266', 'f267', 'f268', 'f269', 'f270', 'f271'] ['MSSubClass', 'LotFrontage', 'LotArea', 'OverallQual', 'OverallCond', 'YearBuilt', 'YearRemodAdd', 'MasVnrArea', 'BsmtFinSF1', 'BsmtFinSF2', 'BsmtUnfSF', 'TotalBsmtSF', '1stFlrSF', '2ndFlrSF', 'LowQualFinSF', 'GrLivArea', 'BsmtFullBath', 'BsmtHalfBath', 'FullBath', 'HalfBath', 'BedroomAbvGr', 'KitchenAbvGr', 'TotRmsAbvGrd', 'Fireplaces', 'GarageYrBlt', 'GarageCars', 'GarageArea', 'WoodDeckSF', 'OpenPorchSF', 'EnclosedPorch', '3SsnPorch', 'ScreenPorch', 'PoolArea', 'MiscVal', 'MoSold', 'YrSold', 'MSZoning_C (all)', 'MSZoning_FV', 'MSZoning_RH', 'MSZoning_RL', 'MSZoning_RM', 'Street', 'LotShape_IR1', 'LotShape_IR2', 'LotShape_IR3', 'LotShape_Reg', 'LandContour_Bnk', 'LandContour_HLS', 'LandContour_Low', 'LandContour_Lvl', 'Utilities', 'LotConfig_Corner', 'LotConfig_CulDSac', 'LotConfig_FR2', 'LotConfig_FR3', 'LotConfig_Inside', 'LandSlope_Gtl', 'LandSlope_Mod', 'LandSlope_Sev', 'Neighborhood_Blmngtn', 'Neighborhood_Blueste', 'Neighborhood_BrDale', 'Neighborhood_BrkSide', 'Neighborhood_ClearCr', 'Neighborhood_CollgCr', 'Neighborhood_Crawfor', 'Neighborhood_Edwards', 'Neighborhood_Gilbert', 'Neighborhood_IDOTRR', 'Neighborhood_MeadowV', 'Neighborhood_Mitchel', 'Neighborhood_NAmes', 'Neighborhood_NPkVill', 'Neighborhood_NWAmes', 'Neighborhood_NoRidge', 'Neighborhood_NridgHt', 'Neighborhood_OldTown', 'Neighborhood_SWISU', 'Neighborhood_Sawyer', 'Neighborhood_SawyerW', 'Neighborhood_Somerst', 'Neighborhood_StoneBr', 'Neighborhood_Timber', 'Neighborhood_Veenker', 'Condition1_Artery', 'Condition1_Feedr', 'Condition1_Norm', 'Condition1_PosA', 'Condition1_PosN', 'Condition1_RRAe', 'Condition1_RRAn', 'Condition1_RRNe', 'Condition1_RRNn', 'Condition2_Artery', 'Condition2_Feedr', 'Condition2_Norm', 'Condition2_PosA', 'Condition2_PosN', 'Condition2_RRAe', 'Condition2_RRAn', 'Condition2_RRNn', 'BldgType_1Fam', 'BldgType_2fmCon', 'BldgType_Duplex', 'BldgType_Twnhs', 'BldgType_TwnhsE', 'HouseStyle_1.5Fin', 'HouseStyle_1.5Unf', 'HouseStyle_1Story', 'HouseStyle_2.5Fin', 'HouseStyle_2.5Unf', 'HouseStyle_2Story', 'HouseStyle_SFoyer', 'HouseStyle_SLvl', 'RoofStyle_Flat', 'RoofStyle_Gable', 'RoofStyle_Gambrel', 'RoofStyle_Hip', 'RoofStyle_Mansard', 'RoofStyle_Shed', 'RoofMatl_ClyTile', 'RoofMatl_CompShg', 'RoofMatl_Membran', 'RoofMatl_Metal', 'RoofMatl_Roll', 'RoofMatl_Tar&Grv', 'RoofMatl_WdShake', 'RoofMatl_WdShngl', 'Exterior1st_AsbShng', 'Exterior1st_AsphShn', 'Exterior1st_BrkComm', 'Exterior1st_BrkFace', 'Exterior1st_CBlock', 'Exterior1st_CemntBd', 'Exterior1st_HdBoard', 'Exterior1st_ImStucc', 'Exterior1st_MetalSd', 'Exterior1st_Plywood', 'Exterior1st_Stone', 'Exterior1st_Stucco', 'Exterior1st_VinylSd', 'Exterior1st_Wd Sdng', 'Exterior1st_WdShing', 'Exterior2nd_AsbShng', 'Exterior2nd_AsphShn', 'Exterior2nd_Brk Cmn', 'Exterior2nd_BrkFace', 'Exterior2nd_CBlock', 'Exterior2nd_CmentBd', 'Exterior2nd_HdBoard', 'Exterior2nd_ImStucc', 'Exterior2nd_MetalSd', 'Exterior2nd_Other', 'Exterior2nd_Plywood', 'Exterior2nd_Stone', 'Exterior2nd_Stucco', 'Exterior2nd_VinylSd', 'Exterior2nd_Wd Sdng', 'Exterior2nd_Wd Shng', 'MasVnrType_BrkCmn', 'MasVnrType_BrkFace', 'MasVnrType_None', 'MasVnrType_Stone', 'ExterQual_Ex', 'ExterQual_Fa', 'ExterQual_Gd', 'ExterQual_TA', 'ExterCond_Ex', 'ExterCond_Fa', 'ExterCond_Gd', 'ExterCond_Po', 'ExterCond_TA', 'Foundation_BrkTil', 'Foundation_CBlock', 'Foundation_PConc', 'Foundation_Slab', 'Foundation_Stone', 'Foundation_Wood', 'BsmtQual_Ex', 'BsmtQual_Fa', 'BsmtQual_Gd', 'BsmtQual_TA', 'BsmtCond_Fa', 'BsmtCond_Gd', 'BsmtCond_Po', 'BsmtCond_TA', 'BsmtExposure_Av', 'BsmtExposure_Gd', 'BsmtExposure_Mn', 'BsmtExposure_No', 'BsmtFinType1_ALQ', 'BsmtFinType1_BLQ', 'BsmtFinType1_GLQ', 'BsmtFinType1_LwQ', 'BsmtFinType1_Rec', 'BsmtFinType1_Unf', 'BsmtFinType2_ALQ', 'BsmtFinType2_BLQ', 'BsmtFinType2_GLQ', 'BsmtFinType2_LwQ', 'BsmtFinType2_Rec', 'BsmtFinType2_Unf', 'Heating_Floor', 'Heating_GasA', 'Heating_GasW', 'Heating_Grav', 'Heating_OthW', 'Heating_Wall', 'HeatingQC_Ex', 'HeatingQC_Fa', 'HeatingQC_Gd', 'HeatingQC_Po', 'HeatingQC_TA', 'CentralAir', 'Electrical_FuseA', 'Electrical_FuseF', 'Electrical_FuseP', 'Electrical_Mix', 'Electrical_SBrkr', 'KitchenQual_Ex', 'KitchenQual_Fa', 'KitchenQual_Gd', 'KitchenQual_TA', 'Functional_Maj1', 'Functional_Maj2', 'Functional_Min1', 'Functional_Min2', 'Functional_Mod', 'Functional_Sev', 'Functional_Typ', 'FireplaceQu_Ex', 'FireplaceQu_Fa', 'FireplaceQu_Gd', 'FireplaceQu_Po', 'FireplaceQu_TA', 'GarageType_2Types', 'GarageType_Attchd', 'GarageType_Basment', 'GarageType_BuiltIn', 'GarageType_CarPort', 'GarageType_Detchd', 'GarageFinish_Fin', 'GarageFinish_RFn', 'GarageFinish_Unf', 'GarageQual_Ex', 'GarageQual_Fa', 'GarageQual_Gd', 'GarageQual_Po', 'GarageQual_TA', 'GarageCond_Ex', 'GarageCond_Fa', 'GarageCond_Gd', 'GarageCond_Po', 'GarageCond_TA', 'PavedDrive_N', 'PavedDrive_P', 'PavedDrive_Y', 'SaleType_COD', 'SaleType_CWD', 'SaleType_Con', 'SaleType_ConLD', 'SaleType_ConLI', 'SaleType_ConLw', 'SaleType_New', 'SaleType_Oth', 'SaleType_WD', 'SaleCondition_Abnorml', 'SaleCondition_AdjLand', 'SaleCondition_Alloca', 'SaleCondition_Family', 'SaleCondition_Normal', 'SaleCondition_Partial']\nexpected f123, f80, f115, f222, f58, f147, f103, f220, f244, f39, f143, f268, f10, f105, f251, f142, f226, f86, f132, f11, f175, f79, f27, f64, f154, f225, f241, f256, f126, f14, f130, f42, f20, f174, f179, f183, f178, f155, f16, f181, f47, f124, f163, f38, f167, f104, f83, f207, f201, f189, f200, f134, f107, f231, f269, f165, f169, f15, f239, f117, f49, f242, f233, f188, f92, f229, f195, f24, f259, f26, f13, f262, f60, f1, f101, f166, f40, f180, f216, f152, f265, f125, f62, f224, f5, f177, f227, f136, f230, f30, f29, f93, f18, f0, f33, f53, f76, f77, f50, f61, f87, f198, f212, f221, f234, f219, f232, f69, f194, f258, f254, f71, f112, f108, f6, f159, f148, f211, f98, f116, f95, f263, f91, f213, f110, f21, f135, f249, f144, f32, f140, f66, f7, f52, f48, f88, f99, f67, f247, f209, f36, f204, f63, f73, f75, f246, f46, f55, f146, f187, f151, f65, f133, f236, f4, f150, f57, f182, f2, f12, f45, f102, f173, f223, f170, f199, f245, f168, f54, f206, f3, f261, f192, f137, f23, f162, f202, f149, f59, f158, f74, f41, f160, f96, f252, f119, f266, f172, f81, f240, f97, f237, f9, f257, f8, f127, f37, f70, f68, f34, f56, f43, f250, f145, f141, f118, f153, f267, f109, f271, f157, f196, f84, f35, f120, f197, f208, f270, f205, f214, f19, f78, f94, f90, f122, f260, f106, f215, f51, f217, f253, f31, f85, f210, f185, f128, f156, f191, f17, f176, f186, f228, f255, f22, f89, f131, f28, f264, f139, f190, f111, f82, f121, f171, f44, f114, f235, f248, f184, f203, f113, f100, f238, f138, f129, f218, f243, f72, f25, f193, f161, f164 in input data\ntraining data did not have the following fields: Heating_Grav, Condition1_RRAe, Exterior2nd_HdBoard, BedroomAbvGr, Neighborhood_SawyerW, Exterior2nd_CBlock, GarageCond_Fa, RoofStyle_Gambrel, Neighborhood_NoRidge, BsmtExposure_No, BsmtFullBath, BsmtFinType1_LwQ, Neighborhood_OldTown, RoofMatl_CompShg, BldgType_Twnhs, ExterQual_Ex, TotalBsmtSF, ExterCond_Fa, Functional_Sev, LotShape_IR1, FireplaceQu_Ex, Neighborhood_MeadowV, Condition1_RRNe, Exterior2nd_AsphShn, BsmtFinType1_GLQ, KitchenQual_TA, 3SsnPorch, BsmtFinType1_Unf, OpenPorchSF, MSSubClass, Condition2_PosN, Neighborhood_Sawyer, GarageArea, GarageQual_Ex, Neighborhood_BrkSide, Condition2_RRAe, Condition2_RRNn, Fireplaces, RoofMatl_Roll, Neighborhood_NPkVill, Exterior2nd_Other, LotShape_Reg, LotFrontage, GarageFinish_Unf, Neighborhood_Blueste, Exterior2nd_MetalSd, KitchenQual_Fa, Functional_Maj2, WoodDeckSF, LotConfig_Corner, Neighborhood_NWAmes, Condition2_RRAn, Exterior2nd_Wd Sdng, ExterCond_Gd, Foundation_Wood, BsmtQual_TA, BsmtCond_Fa, Condition1_RRNn, SaleCondition_AdjLand, KitchenAbvGr, RoofStyle_Flat, Exterior2nd_ImStucc, HouseStyle_1.5Fin, RoofStyle_Mansard, Foundation_PConc, MasVnrType_BrkCmn, GarageCars, LowQualFinSF, SaleType_New, GarageQual_Gd, BsmtCond_Gd, Exterior1st_WdShing, Exterior2nd_Stucco, BsmtFinSF1, Condition1_PosA, Exterior1st_AsphShn, ExterCond_TA, SaleType_CWD, LandSlope_Mod, BsmtExposure_Av, Utilities, MasVnrType_Stone, Neighborhood_StoneBr, Exterior2nd_Stone, Exterior2nd_VinylSd, GarageType_Attchd, EnclosedPorch, Exterior1st_Stucco, ExterQual_Fa, Exterior2nd_Wd Shng, Condition2_PosA, Condition2_Artery, MSZoning_RH, LandContour_Bnk, LotConfig_CulDSac, OverallCond, PavedDrive_Y, BsmtFinType2_LwQ, Exterior2nd_Plywood, ExterCond_Po, SaleType_ConLD, LotShape_IR2, LotShape_IR3, HouseStyle_2Story, Electrical_FuseA, FireplaceQu_TA, Exterior1st_ImStucc, RoofMatl_Metal, Heating_GasW, HouseStyle_SLvl, SaleType_COD, BsmtQual_Ex, SaleCondition_Partial, Exterior1st_Stone, HouseStyle_2.5Unf, PavedDrive_P, Neighborhood_Mitchel, BsmtQual_Fa, 1stFlrSF, BldgType_1Fam, LandContour_Lvl, RoofStyle_Gable, KitchenQual_Ex, Heating_Wall, Exterior1st_AsbShng, LandContour_HLS, Exterior1st_BrkFace, MasVnrArea, Neighborhood_Blmngtn, RoofStyle_Shed, GarageType_2Types, SaleCondition_Alloca, Neighborhood_NAmes, Condition1_Norm, Heating_GasA, GarageCond_Gd, Neighborhood_NridgHt, Exterior1st_VinylSd, SaleType_ConLw, LotConfig_FR2, Condition2_Feedr, ExterQual_Gd, BsmtExposure_Gd, BsmtFinType2_BLQ, SaleType_Oth, SaleType_WD, Neighborhood_IDOTRR, Exterior1st_MetalSd, BsmtExposure_Mn, RoofStyle_Hip, Condition1_Feedr, Exterior2nd_AsbShng, Exterior2nd_BrkFace, Neighborhood_Somerst, LandSlope_Sev, Exterior1st_HdBoard, Exterior2nd_CmentBd, GarageType_CarPort, GarageFinish_RFn, 2ndFlrSF, BsmtFinType1_BLQ, SaleType_Con, Exterior2nd_Brk Cmn, Exterior1st_Plywood, HeatingQC_Fa, TotRmsAbvGrd, RoofMatl_Tar&Grv, GarageYrBlt, Neighborhood_Edwards, CentralAir, BsmtQual_Gd, Exterior1st_Wd Sdng, Condition1_RRAn, FireplaceQu_Fa, HeatingQC_Ex, FireplaceQu_Gd, OverallQual, Foundation_Slab, MSZoning_C (all), BldgType_Duplex, Foundation_CBlock, BsmtFinType1_Rec, LotConfig_Inside, BsmtFinType2_Unf, ScreenPorch, Electrical_FuseP, Condition2_Norm, RoofMatl_ClyTile, Electrical_Mix, ExterQual_TA, YearRemodAdd, KitchenQual_Gd, Functional_Min2, GarageQual_Fa, MasVnrType_BrkFace, PavedDrive_N, Street, BsmtFinType2_Rec, HouseStyle_1.5Unf, FullBath, LotConfig_FR3, BsmtCond_Po, MSZoning_FV, LotArea, Functional_Min1, Functional_Mod, SaleCondition_Abnorml, MoSold, SaleCondition_Normal, Foundation_BrkTil, YearBuilt, HalfBath, Neighborhood_SWISU, BsmtCond_TA, SaleType_ConLI, HouseStyle_SFoyer, BsmtFinType2_ALQ, Heating_OthW, HeatingQC_TA, GarageCond_Po, MiscVal, ExterCond_Ex, MSZoning_RM, Neighborhood_ClearCr, Neighborhood_Gilbert, HouseStyle_1Story, GarageCond_Ex, HeatingQC_Po, PoolArea, BsmtHalfBath, Neighborhood_CollgCr, Neighborhood_Timber, Exterior1st_BrkComm, Condition1_PosN, Exterior1st_CemntBd, BsmtFinType1_ALQ, Electrical_SBrkr, LandContour_Low, Neighborhood_Veenker, Electrical_FuseF, GarageType_Basment, HeatingQC_Gd, Exterior1st_CBlock, GrLivArea, Neighborhood_BrDale, GarageCond_TA, YrSold, BsmtFinType2_GLQ, Foundation_Stone, HouseStyle_2.5Fin, RoofMatl_WdShake, GarageQual_Po, BsmtFinSF2, GarageType_Detchd, SaleCondition_Family, RoofMatl_Membran, MSZoning_RL, LandSlope_Gtl, GarageQual_TA, RoofMatl_WdShngl, MasVnrType_None, BsmtUnfSF, Heating_Floor, Condition1_Artery, GarageFinish_Fin, Functional_Maj1, Neighborhood_Crawfor, GarageType_BuiltIn, Functional_Typ, BldgType_2fmCon, FireplaceQu_Po, BldgType_TwnhsE",
     "output_type": "error",
     "traceback": [
      "\u001b[1;31m---------------------------------------------------------------------------\u001b[0m",
      "\u001b[1;31mValueError\u001b[0m                                Traceback (most recent call last)",
      "\u001b[1;32m<ipython-input-279-4f65a76b7025>\u001b[0m in \u001b[0;36m<module>\u001b[1;34m\u001b[0m\n\u001b[1;32m----> 1\u001b[1;33m \u001b[0mmy_pred\u001b[0m \u001b[1;33m=\u001b[0m \u001b[0mscvr\u001b[0m\u001b[1;33m.\u001b[0m\u001b[0mpredict\u001b[0m\u001b[1;33m(\u001b[0m\u001b[0mX_test\u001b[0m\u001b[1;33m)\u001b[0m\u001b[1;33m\u001b[0m\u001b[1;33m\u001b[0m\u001b[0m\n\u001b[0m\u001b[0;32m      2\u001b[0m \u001b[0mpred_series\u001b[0m \u001b[1;33m=\u001b[0m \u001b[0mpd\u001b[0m\u001b[1;33m.\u001b[0m\u001b[0mSeries\u001b[0m\u001b[1;33m(\u001b[0m\u001b[0mmy_pred\u001b[0m\u001b[1;33m,\u001b[0m \u001b[0mname\u001b[0m\u001b[1;33m=\u001b[0m\u001b[1;34m'SalePrice'\u001b[0m\u001b[1;33m)\u001b[0m\u001b[1;33m\u001b[0m\u001b[1;33m\u001b[0m\u001b[0m\n\u001b[0;32m      3\u001b[0m \u001b[0moutput\u001b[0m \u001b[1;33m=\u001b[0m \u001b[0mpd\u001b[0m\u001b[1;33m.\u001b[0m\u001b[0mconcat\u001b[0m\u001b[1;33m(\u001b[0m\u001b[1;33m[\u001b[0m\u001b[0mId_col\u001b[0m\u001b[1;33m,\u001b[0m \u001b[0mpred_series\u001b[0m\u001b[1;33m]\u001b[0m\u001b[1;33m,\u001b[0m \u001b[0maxis\u001b[0m\u001b[1;33m=\u001b[0m\u001b[1;36m1\u001b[0m\u001b[1;33m)\u001b[0m\u001b[1;33m\u001b[0m\u001b[1;33m\u001b[0m\u001b[0m\n\u001b[0;32m      4\u001b[0m \u001b[0moutput\u001b[0m\u001b[1;33m.\u001b[0m\u001b[0mto_csv\u001b[0m\u001b[1;33m(\u001b[0m\u001b[1;34mf'./submissions/scvr_kaggle_submssion_{datetime.now().strftime(\"%d-%b-%Y_(%H-%M-%S)\")}.csv'\u001b[0m\u001b[1;33m,\u001b[0m \u001b[0mindex\u001b[0m \u001b[1;33m=\u001b[0m \u001b[1;32mFalse\u001b[0m\u001b[1;33m)\u001b[0m\u001b[1;33m\u001b[0m\u001b[1;33m\u001b[0m\u001b[0m\n",
      "\u001b[1;32mc:\\users\\hassa\\.virtualenvs\\mit_deep_learning-6vn7g6jr\\lib\\site-packages\\mlxtend\\regressor\\stacking_cv_regression.py\u001b[0m in \u001b[0;36mpredict\u001b[1;34m(self, X)\u001b[0m\n\u001b[0;32m    240\u001b[0m \u001b[1;33m\u001b[0m\u001b[0m\n\u001b[0;32m    241\u001b[0m         meta_features = np.column_stack([\n\u001b[1;32m--> 242\u001b[1;33m             \u001b[0mregr\u001b[0m\u001b[1;33m.\u001b[0m\u001b[0mpredict\u001b[0m\u001b[1;33m(\u001b[0m\u001b[0mX\u001b[0m\u001b[1;33m)\u001b[0m \u001b[1;32mfor\u001b[0m \u001b[0mregr\u001b[0m \u001b[1;32min\u001b[0m \u001b[0mself\u001b[0m\u001b[1;33m.\u001b[0m\u001b[0mregr_\u001b[0m\u001b[1;33m\u001b[0m\u001b[1;33m\u001b[0m\u001b[0m\n\u001b[0m\u001b[0;32m    243\u001b[0m         ])\n\u001b[0;32m    244\u001b[0m \u001b[1;33m\u001b[0m\u001b[0m\n",
      "\u001b[1;32mc:\\users\\hassa\\.virtualenvs\\mit_deep_learning-6vn7g6jr\\lib\\site-packages\\mlxtend\\regressor\\stacking_cv_regression.py\u001b[0m in \u001b[0;36m<listcomp>\u001b[1;34m(.0)\u001b[0m\n\u001b[0;32m    240\u001b[0m \u001b[1;33m\u001b[0m\u001b[0m\n\u001b[0;32m    241\u001b[0m         meta_features = np.column_stack([\n\u001b[1;32m--> 242\u001b[1;33m             \u001b[0mregr\u001b[0m\u001b[1;33m.\u001b[0m\u001b[0mpredict\u001b[0m\u001b[1;33m(\u001b[0m\u001b[0mX\u001b[0m\u001b[1;33m)\u001b[0m \u001b[1;32mfor\u001b[0m \u001b[0mregr\u001b[0m \u001b[1;32min\u001b[0m \u001b[0mself\u001b[0m\u001b[1;33m.\u001b[0m\u001b[0mregr_\u001b[0m\u001b[1;33m\u001b[0m\u001b[1;33m\u001b[0m\u001b[0m\n\u001b[0m\u001b[0;32m    243\u001b[0m         ])\n\u001b[0;32m    244\u001b[0m \u001b[1;33m\u001b[0m\u001b[0m\n",
      "\u001b[1;32mc:\\users\\hassa\\.virtualenvs\\mit_deep_learning-6vn7g6jr\\lib\\site-packages\\xgboost\\sklearn.py\u001b[0m in \u001b[0;36mpredict\u001b[1;34m(self, data, output_margin, ntree_limit, validate_features, base_margin)\u001b[0m\n\u001b[0;32m    598\u001b[0m                                           \u001b[0moutput_margin\u001b[0m\u001b[1;33m=\u001b[0m\u001b[0moutput_margin\u001b[0m\u001b[1;33m,\u001b[0m\u001b[1;33m\u001b[0m\u001b[1;33m\u001b[0m\u001b[0m\n\u001b[0;32m    599\u001b[0m                                           \u001b[0mntree_limit\u001b[0m\u001b[1;33m=\u001b[0m\u001b[0mntree_limit\u001b[0m\u001b[1;33m,\u001b[0m\u001b[1;33m\u001b[0m\u001b[1;33m\u001b[0m\u001b[0m\n\u001b[1;32m--> 600\u001b[1;33m                                           validate_features=validate_features)\n\u001b[0m\u001b[0;32m    601\u001b[0m \u001b[1;33m\u001b[0m\u001b[0m\n\u001b[0;32m    602\u001b[0m     \u001b[1;32mdef\u001b[0m \u001b[0mapply\u001b[0m\u001b[1;33m(\u001b[0m\u001b[0mself\u001b[0m\u001b[1;33m,\u001b[0m \u001b[0mX\u001b[0m\u001b[1;33m,\u001b[0m \u001b[0mntree_limit\u001b[0m\u001b[1;33m=\u001b[0m\u001b[1;36m0\u001b[0m\u001b[1;33m)\u001b[0m\u001b[1;33m:\u001b[0m\u001b[1;33m\u001b[0m\u001b[1;33m\u001b[0m\u001b[0m\n",
      "\u001b[1;32mc:\\users\\hassa\\.virtualenvs\\mit_deep_learning-6vn7g6jr\\lib\\site-packages\\xgboost\\core.py\u001b[0m in \u001b[0;36mpredict\u001b[1;34m(self, data, output_margin, ntree_limit, pred_leaf, pred_contribs, approx_contribs, pred_interactions, validate_features, training)\u001b[0m\n\u001b[0;32m   1569\u001b[0m \u001b[1;33m\u001b[0m\u001b[0m\n\u001b[0;32m   1570\u001b[0m         \u001b[1;32mif\u001b[0m \u001b[0mvalidate_features\u001b[0m\u001b[1;33m:\u001b[0m\u001b[1;33m\u001b[0m\u001b[1;33m\u001b[0m\u001b[0m\n\u001b[1;32m-> 1571\u001b[1;33m             \u001b[0mself\u001b[0m\u001b[1;33m.\u001b[0m\u001b[0m_validate_features\u001b[0m\u001b[1;33m(\u001b[0m\u001b[0mdata\u001b[0m\u001b[1;33m)\u001b[0m\u001b[1;33m\u001b[0m\u001b[1;33m\u001b[0m\u001b[0m\n\u001b[0m\u001b[0;32m   1572\u001b[0m \u001b[1;33m\u001b[0m\u001b[0m\n\u001b[0;32m   1573\u001b[0m         \u001b[0mlength\u001b[0m \u001b[1;33m=\u001b[0m \u001b[0mc_bst_ulong\u001b[0m\u001b[1;33m(\u001b[0m\u001b[1;33m)\u001b[0m\u001b[1;33m\u001b[0m\u001b[1;33m\u001b[0m\u001b[0m\n",
      "\u001b[1;32mc:\\users\\hassa\\.virtualenvs\\mit_deep_learning-6vn7g6jr\\lib\\site-packages\\xgboost\\core.py\u001b[0m in \u001b[0;36m_validate_features\u001b[1;34m(self, data)\u001b[0m\n\u001b[0;32m   2129\u001b[0m \u001b[1;33m\u001b[0m\u001b[0m\n\u001b[0;32m   2130\u001b[0m                 raise ValueError(msg.format(self.feature_names,\n\u001b[1;32m-> 2131\u001b[1;33m                                             data.feature_names))\n\u001b[0m\u001b[0;32m   2132\u001b[0m \u001b[1;33m\u001b[0m\u001b[0m\n\u001b[0;32m   2133\u001b[0m     def get_split_value_histogram(self, feature, fmap='', bins=None,\n",
      "\u001b[1;31mValueError\u001b[0m: feature_names mismatch: ['f0', 'f1', 'f2', 'f3', 'f4', 'f5', 'f6', 'f7', 'f8', 'f9', 'f10', 'f11', 'f12', 'f13', 'f14', 'f15', 'f16', 'f17', 'f18', 'f19', 'f20', 'f21', 'f22', 'f23', 'f24', 'f25', 'f26', 'f27', 'f28', 'f29', 'f30', 'f31', 'f32', 'f33', 'f34', 'f35', 'f36', 'f37', 'f38', 'f39', 'f40', 'f41', 'f42', 'f43', 'f44', 'f45', 'f46', 'f47', 'f48', 'f49', 'f50', 'f51', 'f52', 'f53', 'f54', 'f55', 'f56', 'f57', 'f58', 'f59', 'f60', 'f61', 'f62', 'f63', 'f64', 'f65', 'f66', 'f67', 'f68', 'f69', 'f70', 'f71', 'f72', 'f73', 'f74', 'f75', 'f76', 'f77', 'f78', 'f79', 'f80', 'f81', 'f82', 'f83', 'f84', 'f85', 'f86', 'f87', 'f88', 'f89', 'f90', 'f91', 'f92', 'f93', 'f94', 'f95', 'f96', 'f97', 'f98', 'f99', 'f100', 'f101', 'f102', 'f103', 'f104', 'f105', 'f106', 'f107', 'f108', 'f109', 'f110', 'f111', 'f112', 'f113', 'f114', 'f115', 'f116', 'f117', 'f118', 'f119', 'f120', 'f121', 'f122', 'f123', 'f124', 'f125', 'f126', 'f127', 'f128', 'f129', 'f130', 'f131', 'f132', 'f133', 'f134', 'f135', 'f136', 'f137', 'f138', 'f139', 'f140', 'f141', 'f142', 'f143', 'f144', 'f145', 'f146', 'f147', 'f148', 'f149', 'f150', 'f151', 'f152', 'f153', 'f154', 'f155', 'f156', 'f157', 'f158', 'f159', 'f160', 'f161', 'f162', 'f163', 'f164', 'f165', 'f166', 'f167', 'f168', 'f169', 'f170', 'f171', 'f172', 'f173', 'f174', 'f175', 'f176', 'f177', 'f178', 'f179', 'f180', 'f181', 'f182', 'f183', 'f184', 'f185', 'f186', 'f187', 'f188', 'f189', 'f190', 'f191', 'f192', 'f193', 'f194', 'f195', 'f196', 'f197', 'f198', 'f199', 'f200', 'f201', 'f202', 'f203', 'f204', 'f205', 'f206', 'f207', 'f208', 'f209', 'f210', 'f211', 'f212', 'f213', 'f214', 'f215', 'f216', 'f217', 'f218', 'f219', 'f220', 'f221', 'f222', 'f223', 'f224', 'f225', 'f226', 'f227', 'f228', 'f229', 'f230', 'f231', 'f232', 'f233', 'f234', 'f235', 'f236', 'f237', 'f238', 'f239', 'f240', 'f241', 'f242', 'f243', 'f244', 'f245', 'f246', 'f247', 'f248', 'f249', 'f250', 'f251', 'f252', 'f253', 'f254', 'f255', 'f256', 'f257', 'f258', 'f259', 'f260', 'f261', 'f262', 'f263', 'f264', 'f265', 'f266', 'f267', 'f268', 'f269', 'f270', 'f271'] ['MSSubClass', 'LotFrontage', 'LotArea', 'OverallQual', 'OverallCond', 'YearBuilt', 'YearRemodAdd', 'MasVnrArea', 'BsmtFinSF1', 'BsmtFinSF2', 'BsmtUnfSF', 'TotalBsmtSF', '1stFlrSF', '2ndFlrSF', 'LowQualFinSF', 'GrLivArea', 'BsmtFullBath', 'BsmtHalfBath', 'FullBath', 'HalfBath', 'BedroomAbvGr', 'KitchenAbvGr', 'TotRmsAbvGrd', 'Fireplaces', 'GarageYrBlt', 'GarageCars', 'GarageArea', 'WoodDeckSF', 'OpenPorchSF', 'EnclosedPorch', '3SsnPorch', 'ScreenPorch', 'PoolArea', 'MiscVal', 'MoSold', 'YrSold', 'MSZoning_C (all)', 'MSZoning_FV', 'MSZoning_RH', 'MSZoning_RL', 'MSZoning_RM', 'Street', 'LotShape_IR1', 'LotShape_IR2', 'LotShape_IR3', 'LotShape_Reg', 'LandContour_Bnk', 'LandContour_HLS', 'LandContour_Low', 'LandContour_Lvl', 'Utilities', 'LotConfig_Corner', 'LotConfig_CulDSac', 'LotConfig_FR2', 'LotConfig_FR3', 'LotConfig_Inside', 'LandSlope_Gtl', 'LandSlope_Mod', 'LandSlope_Sev', 'Neighborhood_Blmngtn', 'Neighborhood_Blueste', 'Neighborhood_BrDale', 'Neighborhood_BrkSide', 'Neighborhood_ClearCr', 'Neighborhood_CollgCr', 'Neighborhood_Crawfor', 'Neighborhood_Edwards', 'Neighborhood_Gilbert', 'Neighborhood_IDOTRR', 'Neighborhood_MeadowV', 'Neighborhood_Mitchel', 'Neighborhood_NAmes', 'Neighborhood_NPkVill', 'Neighborhood_NWAmes', 'Neighborhood_NoRidge', 'Neighborhood_NridgHt', 'Neighborhood_OldTown', 'Neighborhood_SWISU', 'Neighborhood_Sawyer', 'Neighborhood_SawyerW', 'Neighborhood_Somerst', 'Neighborhood_StoneBr', 'Neighborhood_Timber', 'Neighborhood_Veenker', 'Condition1_Artery', 'Condition1_Feedr', 'Condition1_Norm', 'Condition1_PosA', 'Condition1_PosN', 'Condition1_RRAe', 'Condition1_RRAn', 'Condition1_RRNe', 'Condition1_RRNn', 'Condition2_Artery', 'Condition2_Feedr', 'Condition2_Norm', 'Condition2_PosA', 'Condition2_PosN', 'Condition2_RRAe', 'Condition2_RRAn', 'Condition2_RRNn', 'BldgType_1Fam', 'BldgType_2fmCon', 'BldgType_Duplex', 'BldgType_Twnhs', 'BldgType_TwnhsE', 'HouseStyle_1.5Fin', 'HouseStyle_1.5Unf', 'HouseStyle_1Story', 'HouseStyle_2.5Fin', 'HouseStyle_2.5Unf', 'HouseStyle_2Story', 'HouseStyle_SFoyer', 'HouseStyle_SLvl', 'RoofStyle_Flat', 'RoofStyle_Gable', 'RoofStyle_Gambrel', 'RoofStyle_Hip', 'RoofStyle_Mansard', 'RoofStyle_Shed', 'RoofMatl_ClyTile', 'RoofMatl_CompShg', 'RoofMatl_Membran', 'RoofMatl_Metal', 'RoofMatl_Roll', 'RoofMatl_Tar&Grv', 'RoofMatl_WdShake', 'RoofMatl_WdShngl', 'Exterior1st_AsbShng', 'Exterior1st_AsphShn', 'Exterior1st_BrkComm', 'Exterior1st_BrkFace', 'Exterior1st_CBlock', 'Exterior1st_CemntBd', 'Exterior1st_HdBoard', 'Exterior1st_ImStucc', 'Exterior1st_MetalSd', 'Exterior1st_Plywood', 'Exterior1st_Stone', 'Exterior1st_Stucco', 'Exterior1st_VinylSd', 'Exterior1st_Wd Sdng', 'Exterior1st_WdShing', 'Exterior2nd_AsbShng', 'Exterior2nd_AsphShn', 'Exterior2nd_Brk Cmn', 'Exterior2nd_BrkFace', 'Exterior2nd_CBlock', 'Exterior2nd_CmentBd', 'Exterior2nd_HdBoard', 'Exterior2nd_ImStucc', 'Exterior2nd_MetalSd', 'Exterior2nd_Other', 'Exterior2nd_Plywood', 'Exterior2nd_Stone', 'Exterior2nd_Stucco', 'Exterior2nd_VinylSd', 'Exterior2nd_Wd Sdng', 'Exterior2nd_Wd Shng', 'MasVnrType_BrkCmn', 'MasVnrType_BrkFace', 'MasVnrType_None', 'MasVnrType_Stone', 'ExterQual_Ex', 'ExterQual_Fa', 'ExterQual_Gd', 'ExterQual_TA', 'ExterCond_Ex', 'ExterCond_Fa', 'ExterCond_Gd', 'ExterCond_Po', 'ExterCond_TA', 'Foundation_BrkTil', 'Foundation_CBlock', 'Foundation_PConc', 'Foundation_Slab', 'Foundation_Stone', 'Foundation_Wood', 'BsmtQual_Ex', 'BsmtQual_Fa', 'BsmtQual_Gd', 'BsmtQual_TA', 'BsmtCond_Fa', 'BsmtCond_Gd', 'BsmtCond_Po', 'BsmtCond_TA', 'BsmtExposure_Av', 'BsmtExposure_Gd', 'BsmtExposure_Mn', 'BsmtExposure_No', 'BsmtFinType1_ALQ', 'BsmtFinType1_BLQ', 'BsmtFinType1_GLQ', 'BsmtFinType1_LwQ', 'BsmtFinType1_Rec', 'BsmtFinType1_Unf', 'BsmtFinType2_ALQ', 'BsmtFinType2_BLQ', 'BsmtFinType2_GLQ', 'BsmtFinType2_LwQ', 'BsmtFinType2_Rec', 'BsmtFinType2_Unf', 'Heating_Floor', 'Heating_GasA', 'Heating_GasW', 'Heating_Grav', 'Heating_OthW', 'Heating_Wall', 'HeatingQC_Ex', 'HeatingQC_Fa', 'HeatingQC_Gd', 'HeatingQC_Po', 'HeatingQC_TA', 'CentralAir', 'Electrical_FuseA', 'Electrical_FuseF', 'Electrical_FuseP', 'Electrical_Mix', 'Electrical_SBrkr', 'KitchenQual_Ex', 'KitchenQual_Fa', 'KitchenQual_Gd', 'KitchenQual_TA', 'Functional_Maj1', 'Functional_Maj2', 'Functional_Min1', 'Functional_Min2', 'Functional_Mod', 'Functional_Sev', 'Functional_Typ', 'FireplaceQu_Ex', 'FireplaceQu_Fa', 'FireplaceQu_Gd', 'FireplaceQu_Po', 'FireplaceQu_TA', 'GarageType_2Types', 'GarageType_Attchd', 'GarageType_Basment', 'GarageType_BuiltIn', 'GarageType_CarPort', 'GarageType_Detchd', 'GarageFinish_Fin', 'GarageFinish_RFn', 'GarageFinish_Unf', 'GarageQual_Ex', 'GarageQual_Fa', 'GarageQual_Gd', 'GarageQual_Po', 'GarageQual_TA', 'GarageCond_Ex', 'GarageCond_Fa', 'GarageCond_Gd', 'GarageCond_Po', 'GarageCond_TA', 'PavedDrive_N', 'PavedDrive_P', 'PavedDrive_Y', 'SaleType_COD', 'SaleType_CWD', 'SaleType_Con', 'SaleType_ConLD', 'SaleType_ConLI', 'SaleType_ConLw', 'SaleType_New', 'SaleType_Oth', 'SaleType_WD', 'SaleCondition_Abnorml', 'SaleCondition_AdjLand', 'SaleCondition_Alloca', 'SaleCondition_Family', 'SaleCondition_Normal', 'SaleCondition_Partial']\nexpected f123, f80, f115, f222, f58, f147, f103, f220, f244, f39, f143, f268, f10, f105, f251, f142, f226, f86, f132, f11, f175, f79, f27, f64, f154, f225, f241, f256, f126, f14, f130, f42, f20, f174, f179, f183, f178, f155, f16, f181, f47, f124, f163, f38, f167, f104, f83, f207, f201, f189, f200, f134, f107, f231, f269, f165, f169, f15, f239, f117, f49, f242, f233, f188, f92, f229, f195, f24, f259, f26, f13, f262, f60, f1, f101, f166, f40, f180, f216, f152, f265, f125, f62, f224, f5, f177, f227, f136, f230, f30, f29, f93, f18, f0, f33, f53, f76, f77, f50, f61, f87, f198, f212, f221, f234, f219, f232, f69, f194, f258, f254, f71, f112, f108, f6, f159, f148, f211, f98, f116, f95, f263, f91, f213, f110, f21, f135, f249, f144, f32, f140, f66, f7, f52, f48, f88, f99, f67, f247, f209, f36, f204, f63, f73, f75, f246, f46, f55, f146, f187, f151, f65, f133, f236, f4, f150, f57, f182, f2, f12, f45, f102, f173, f223, f170, f199, f245, f168, f54, f206, f3, f261, f192, f137, f23, f162, f202, f149, f59, f158, f74, f41, f160, f96, f252, f119, f266, f172, f81, f240, f97, f237, f9, f257, f8, f127, f37, f70, f68, f34, f56, f43, f250, f145, f141, f118, f153, f267, f109, f271, f157, f196, f84, f35, f120, f197, f208, f270, f205, f214, f19, f78, f94, f90, f122, f260, f106, f215, f51, f217, f253, f31, f85, f210, f185, f128, f156, f191, f17, f176, f186, f228, f255, f22, f89, f131, f28, f264, f139, f190, f111, f82, f121, f171, f44, f114, f235, f248, f184, f203, f113, f100, f238, f138, f129, f218, f243, f72, f25, f193, f161, f164 in input data\ntraining data did not have the following fields: Heating_Grav, Condition1_RRAe, Exterior2nd_HdBoard, BedroomAbvGr, Neighborhood_SawyerW, Exterior2nd_CBlock, GarageCond_Fa, RoofStyle_Gambrel, Neighborhood_NoRidge, BsmtExposure_No, BsmtFullBath, BsmtFinType1_LwQ, Neighborhood_OldTown, RoofMatl_CompShg, BldgType_Twnhs, ExterQual_Ex, TotalBsmtSF, ExterCond_Fa, Functional_Sev, LotShape_IR1, FireplaceQu_Ex, Neighborhood_MeadowV, Condition1_RRNe, Exterior2nd_AsphShn, BsmtFinType1_GLQ, KitchenQual_TA, 3SsnPorch, BsmtFinType1_Unf, OpenPorchSF, MSSubClass, Condition2_PosN, Neighborhood_Sawyer, GarageArea, GarageQual_Ex, Neighborhood_BrkSide, Condition2_RRAe, Condition2_RRNn, Fireplaces, RoofMatl_Roll, Neighborhood_NPkVill, Exterior2nd_Other, LotShape_Reg, LotFrontage, GarageFinish_Unf, Neighborhood_Blueste, Exterior2nd_MetalSd, KitchenQual_Fa, Functional_Maj2, WoodDeckSF, LotConfig_Corner, Neighborhood_NWAmes, Condition2_RRAn, Exterior2nd_Wd Sdng, ExterCond_Gd, Foundation_Wood, BsmtQual_TA, BsmtCond_Fa, Condition1_RRNn, SaleCondition_AdjLand, KitchenAbvGr, RoofStyle_Flat, Exterior2nd_ImStucc, HouseStyle_1.5Fin, RoofStyle_Mansard, Foundation_PConc, MasVnrType_BrkCmn, GarageCars, LowQualFinSF, SaleType_New, GarageQual_Gd, BsmtCond_Gd, Exterior1st_WdShing, Exterior2nd_Stucco, BsmtFinSF1, Condition1_PosA, Exterior1st_AsphShn, ExterCond_TA, SaleType_CWD, LandSlope_Mod, BsmtExposure_Av, Utilities, MasVnrType_Stone, Neighborhood_StoneBr, Exterior2nd_Stone, Exterior2nd_VinylSd, GarageType_Attchd, EnclosedPorch, Exterior1st_Stucco, ExterQual_Fa, Exterior2nd_Wd Shng, Condition2_PosA, Condition2_Artery, MSZoning_RH, LandContour_Bnk, LotConfig_CulDSac, OverallCond, PavedDrive_Y, BsmtFinType2_LwQ, Exterior2nd_Plywood, ExterCond_Po, SaleType_ConLD, LotShape_IR2, LotShape_IR3, HouseStyle_2Story, Electrical_FuseA, FireplaceQu_TA, Exterior1st_ImStucc, RoofMatl_Metal, Heating_GasW, HouseStyle_SLvl, SaleType_COD, BsmtQual_Ex, SaleCondition_Partial, Exterior1st_Stone, HouseStyle_2.5Unf, PavedDrive_P, Neighborhood_Mitchel, BsmtQual_Fa, 1stFlrSF, BldgType_1Fam, LandContour_Lvl, RoofStyle_Gable, KitchenQual_Ex, Heating_Wall, Exterior1st_AsbShng, LandContour_HLS, Exterior1st_BrkFace, MasVnrArea, Neighborhood_Blmngtn, RoofStyle_Shed, GarageType_2Types, SaleCondition_Alloca, Neighborhood_NAmes, Condition1_Norm, Heating_GasA, GarageCond_Gd, Neighborhood_NridgHt, Exterior1st_VinylSd, SaleType_ConLw, LotConfig_FR2, Condition2_Feedr, ExterQual_Gd, BsmtExposure_Gd, BsmtFinType2_BLQ, SaleType_Oth, SaleType_WD, Neighborhood_IDOTRR, Exterior1st_MetalSd, BsmtExposure_Mn, RoofStyle_Hip, Condition1_Feedr, Exterior2nd_AsbShng, Exterior2nd_BrkFace, Neighborhood_Somerst, LandSlope_Sev, Exterior1st_HdBoard, Exterior2nd_CmentBd, GarageType_CarPort, GarageFinish_RFn, 2ndFlrSF, BsmtFinType1_BLQ, SaleType_Con, Exterior2nd_Brk Cmn, Exterior1st_Plywood, HeatingQC_Fa, TotRmsAbvGrd, RoofMatl_Tar&Grv, GarageYrBlt, Neighborhood_Edwards, CentralAir, BsmtQual_Gd, Exterior1st_Wd Sdng, Condition1_RRAn, FireplaceQu_Fa, HeatingQC_Ex, FireplaceQu_Gd, OverallQual, Foundation_Slab, MSZoning_C (all), BldgType_Duplex, Foundation_CBlock, BsmtFinType1_Rec, LotConfig_Inside, BsmtFinType2_Unf, ScreenPorch, Electrical_FuseP, Condition2_Norm, RoofMatl_ClyTile, Electrical_Mix, ExterQual_TA, YearRemodAdd, KitchenQual_Gd, Functional_Min2, GarageQual_Fa, MasVnrType_BrkFace, PavedDrive_N, Street, BsmtFinType2_Rec, HouseStyle_1.5Unf, FullBath, LotConfig_FR3, BsmtCond_Po, MSZoning_FV, LotArea, Functional_Min1, Functional_Mod, SaleCondition_Abnorml, MoSold, SaleCondition_Normal, Foundation_BrkTil, YearBuilt, HalfBath, Neighborhood_SWISU, BsmtCond_TA, SaleType_ConLI, HouseStyle_SFoyer, BsmtFinType2_ALQ, Heating_OthW, HeatingQC_TA, GarageCond_Po, MiscVal, ExterCond_Ex, MSZoning_RM, Neighborhood_ClearCr, Neighborhood_Gilbert, HouseStyle_1Story, GarageCond_Ex, HeatingQC_Po, PoolArea, BsmtHalfBath, Neighborhood_CollgCr, Neighborhood_Timber, Exterior1st_BrkComm, Condition1_PosN, Exterior1st_CemntBd, BsmtFinType1_ALQ, Electrical_SBrkr, LandContour_Low, Neighborhood_Veenker, Electrical_FuseF, GarageType_Basment, HeatingQC_Gd, Exterior1st_CBlock, GrLivArea, Neighborhood_BrDale, GarageCond_TA, YrSold, BsmtFinType2_GLQ, Foundation_Stone, HouseStyle_2.5Fin, RoofMatl_WdShake, GarageQual_Po, BsmtFinSF2, GarageType_Detchd, SaleCondition_Family, RoofMatl_Membran, MSZoning_RL, LandSlope_Gtl, GarageQual_TA, RoofMatl_WdShngl, MasVnrType_None, BsmtUnfSF, Heating_Floor, Condition1_Artery, GarageFinish_Fin, Functional_Maj1, Neighborhood_Crawfor, GarageType_BuiltIn, Functional_Typ, BldgType_2fmCon, FireplaceQu_Po, BldgType_TwnhsE"
     ]
    }
   ],
   "source": [
    "my_pred = scvr.predict(X_test)\n",
    "pred_series = pd.Series(my_pred, name='SalePrice')\n",
    "output = pd.concat([Id_col, pred_series], axis=1)\n",
    "output.to_csv(f'./submissions/scvr_kaggle_submssion_{datetime.now().strftime(\"%d-%b-%Y_(%H-%M-%S)\")}.csv', index = False)"
   ]
  },
  {
   "cell_type": "code",
   "execution_count": 37,
   "metadata": {},
   "outputs": [
    {
     "name": "stdout",
     "output_type": "stream",
     "text": [
      "Collecting git+https://github.com/tensorflow/docs\n",
      "  Cloning https://github.com/tensorflow/docs to c:\\users\\hassa\\appdata\\local\\temp\\pip-req-build-f9yi3uxp\n",
      "Collecting astor\n",
      "  Downloading astor-0.8.1-py2.py3-none-any.whl (27 kB)\n",
      "Requirement already satisfied: absl-py in c:\\users\\hassa\\.virtualenvs\\mit_deep_learning-6vn7g6jr\\lib\\site-packages (from tensorflow-docs===0.0.0ddfe55f6903a44ad2e7a214f7578f6d349ef4a8a-) (0.9.0)\n",
      "Requirement already satisfied: protobuf in c:\\users\\hassa\\.virtualenvs\\mit_deep_learning-6vn7g6jr\\lib\\site-packages (from tensorflow-docs===0.0.0ddfe55f6903a44ad2e7a214f7578f6d349ef4a8a-) (3.12.2)\n",
      "Requirement already satisfied: pyyaml in c:\\users\\hassa\\.virtualenvs\\mit_deep_learning-6vn7g6jr\\lib\\site-packages (from tensorflow-docs===0.0.0ddfe55f6903a44ad2e7a214f7578f6d349ef4a8a-) (5.3.1)\n",
      "Requirement already satisfied: six in c:\\users\\hassa\\.virtualenvs\\mit_deep_learning-6vn7g6jr\\lib\\site-packages (from absl-py->tensorflow-docs===0.0.0ddfe55f6903a44ad2e7a214f7578f6d349ef4a8a-) (1.15.0)\n",
      "Requirement already satisfied: setuptools in c:\\users\\hassa\\.virtualenvs\\mit_deep_learning-6vn7g6jr\\lib\\site-packages (from protobuf->tensorflow-docs===0.0.0ddfe55f6903a44ad2e7a214f7578f6d349ef4a8a-) (45.2.0)\n",
      "Building wheels for collected packages: tensorflow-docs\n",
      "  Building wheel for tensorflow-docs (setup.py): started\n",
      "  Building wheel for tensorflow-docs (setup.py): finished with status 'done'\n",
      "  Created wheel for tensorflow-docs: filename=tensorflow_docs-0.0.0ddfe55f6903a44ad2e7a214f7578f6d349ef4a8a_-py3-none-any.whl size=111063 sha256=b03f318820f7cc78cec6ff8cab78c4d5beba0c0311ecc3b91693697fad7e372c\n",
      "  Stored in directory: C:\\Users\\hassa\\AppData\\Local\\Temp\\pip-ephem-wheel-cache-83xa9v7f\\wheels\\cc\\c4\\d8\\5341e93b6376c5c929c49469fce21155eb69cef1a4da4ce32c\n",
      "Successfully built tensorflow-docs\n",
      "Installing collected packages: astor, tensorflow-docs\n",
      "Successfully installed astor-0.8.1 tensorflow-docs-0.0.0ddfe55f6903a44ad2e7a214f7578f6d349ef4a8a-\n"
     ]
    },
    {
     "name": "stderr",
     "output_type": "stream",
     "text": [
      "  Running command git clone -q https://github.com/tensorflow/docs 'C:\\Users\\hassa\\AppData\\Local\\Temp\\pip-req-build-f9yi3uxp'\n"
     ]
    }
   ],
   "source": [
    "!pip install git+https://github.com/tensorflow/docs"
   ]
  },
  {
   "cell_type": "code",
   "execution_count": 91,
   "metadata": {},
   "outputs": [],
   "source": [
    "%load_ext tensorboard"
   ]
  },
  {
   "cell_type": "code",
   "execution_count": 183,
   "metadata": {},
   "outputs": [],
   "source": [
    "from tensorflow.keras import Sequential\n",
    "from tensorflow.keras.layers import Dense, Dropout\n",
    "import tensorflow_docs as tfdocs\n",
    "import tensorflow_docs.plots\n",
    "import tensorflow_docs.modeling"
   ]
  },
  {
   "cell_type": "code",
   "execution_count": 192,
   "metadata": {},
   "outputs": [],
   "source": [
    "model = Sequential()"
   ]
  },
  {
   "cell_type": "code",
   "execution_count": null,
   "metadata": {},
   "outputs": [],
   "source": [
    "dense_layer = Dense(5)"
   ]
  },
  {
   "cell_type": "code",
   "execution_count": 322,
   "metadata": {},
   "outputs": [],
   "source": [
    "def build_model():\n",
    "  model = Sequential([\n",
    "    Dense(128, activation='relu'),\n",
    "    Dropout(0.2),\n",
    "    Dense(32, activation='relu'),\n",
    "    Dense(1)\n",
    "  ])\n",
    "\n",
    "  optimizer = tf.keras.optimizers.Adam()\n",
    "\n",
    "  model.compile(loss='msle',\n",
    "                optimizer=optimizer,\n",
    "                metrics=['mae', 'mse', 'msle'])\n",
    "  return model"
   ]
  },
  {
   "cell_type": "code",
   "execution_count": 323,
   "metadata": {},
   "outputs": [],
   "source": [
    "x_input = tf.constant([[1,2.]], shape=(1,2))"
   ]
  },
  {
   "cell_type": "code",
   "execution_count": 324,
   "metadata": {},
   "outputs": [],
   "source": [
    "model = build_model()"
   ]
  },
  {
   "cell_type": "code",
   "execution_count": null,
   "metadata": {},
   "outputs": [],
   "source": []
  },
  {
   "cell_type": "code",
   "execution_count": 325,
   "metadata": {},
   "outputs": [
    {
     "name": "stdout",
     "output_type": "stream",
     "text": [
      "WARNING:tensorflow:Layer dense_48 is casting an input tensor from dtype float64 to the layer's dtype of float32, which is new behavior in TensorFlow 2.  The layer has dtype float32 because it's dtype defaults to floatx.\n",
      "\n",
      "If you intended to run this layer in float32, you can safely ignore this warning. If in doubt, this warning is likely only an issue if you are porting a TensorFlow 1.X model to TensorFlow 2.\n",
      "\n",
      "To change all layers to have dtype float64 by default, call `tf.keras.backend.set_floatx('float64')`. To change just this layer, pass dtype='float64' to the layer constructor. If you are the author of this layer, you can disable autocasting by passing autocast=False to the base Layer constructor.\n",
      "\n"
     ]
    }
   ],
   "source": [
    "EPOCHS = 1000\n",
    "log_dir = \"logs/fit/\" + datetime.now().strftime(\"%Y%m%d-%H%M%S\")\n",
    "history = model.fit(\n",
    "  X, y,\n",
    "  epochs=EPOCHS, validation_split = 0.2, verbose=0,\n",
    "  callbacks=[tf.keras.callbacks.TensorBoard(log_dir=log_dir, histogram_freq=1)])"
   ]
  },
  {
   "cell_type": "code",
   "execution_count": null,
   "metadata": {},
   "outputs": [],
   "source": [
    "# %tensorboard --logdir logs/fit"
   ]
  },
  {
   "cell_type": "code",
   "execution_count": 326,
   "metadata": {},
   "outputs": [],
   "source": [
    "pred = model.predict(X_test).flatten()"
   ]
  },
  {
   "cell_type": "code",
   "execution_count": 327,
   "metadata": {},
   "outputs": [
    {
     "data": {
      "text/plain": [
       "array([145048.55 , 166108.72 , 190419.4  , ..., 179819.02 , 110505.414,\n",
       "       240974.47 ], dtype=float32)"
      ]
     },
     "execution_count": 327,
     "metadata": {},
     "output_type": "execute_result"
    }
   ],
   "source": [
    "pred"
   ]
  },
  {
   "cell_type": "code",
   "execution_count": 328,
   "metadata": {},
   "outputs": [],
   "source": [
    "pred_series = pd.Series(pred, name='SalePrice')\n",
    "output = pd.concat([Id_col, pred_series], axis=1)\n",
    "output.to_csv(f'./submissions/tf_kaggle_submssion_{datetime.now().strftime(\"%d-%b-%Y_(%H-%M-%S)\")}.csv', index = False)"
   ]
  },
  {
   "cell_type": "code",
   "execution_count": null,
   "metadata": {},
   "outputs": [],
   "source": []
  }
 ],
 "metadata": {
  "kernelspec": {
   "display_name": "Python 3",
   "language": "python",
   "name": "python3"
  },
  "language_info": {
   "codemirror_mode": {
    "name": "ipython",
    "version": 3
   },
   "file_extension": ".py",
   "mimetype": "text/x-python",
   "name": "python",
   "nbconvert_exporter": "python",
   "pygments_lexer": "ipython3",
   "version": "3.7.4"
  },
  "varInspector": {
   "cols": {
    "lenName": 16,
    "lenType": 16,
    "lenVar": 40
   },
   "kernels_config": {
    "python": {
     "delete_cmd_postfix": "",
     "delete_cmd_prefix": "del ",
     "library": "var_list.py",
     "varRefreshCmd": "print(var_dic_list())"
    },
    "r": {
     "delete_cmd_postfix": ") ",
     "delete_cmd_prefix": "rm(",
     "library": "var_list.r",
     "varRefreshCmd": "cat(var_dic_list()) "
    }
   },
   "types_to_exclude": [
    "module",
    "function",
    "builtin_function_or_method",
    "instance",
    "_Feature"
   ],
   "window_display": false
  }
 },
 "nbformat": 4,
 "nbformat_minor": 4
}
